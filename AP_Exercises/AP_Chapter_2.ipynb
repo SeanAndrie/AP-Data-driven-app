{
 "cells": [
  {
   "cell_type": "markdown",
   "metadata": {},
   "source": [
    "# **Chapter 2 - Exercises**"
   ]
  },
  {
   "cell_type": "markdown",
   "metadata": {},
   "source": [
    "## **Exercise 1: Input List**\n",
    "\n",
    "Write a program that requests five numbers from the user and adds these into a list. Once the vlaues have been inputted, displaying them to the user in a nicely formatted list."
   ]
  },
  {
   "cell_type": "code",
   "execution_count": 2,
   "metadata": {},
   "outputs": [
    {
     "name": "stdout",
     "output_type": "stream",
     "text": [
      "Elements in list: [1, 2, 3, 4, 5]\n"
     ]
    }
   ],
   "source": [
    "lst = [int(input(f'Enter Number {i} : ')) for i in range(5)] # List comprehension\n",
    "print(f'Elements in list: {lst}')"
   ]
  },
  {
   "cell_type": "markdown",
   "metadata": {},
   "source": [
    "## **Exercise 2: Integer List**\n",
    "\n",
    "Create an integer list and perform the following operations:\n",
    "\n",
    "- Create an int list with 10 values\n",
    "- Output the list using a for loop\n",
    "- Output the highest and lowest value\n",
    "- Sort the elements in descending order\n",
    "- Append two elements\n",
    "- Print the list after appending"
   ]
  },
  {
   "cell_type": "code",
   "execution_count": 17,
   "metadata": {},
   "outputs": [
    {
     "name": "stdout",
     "output_type": "stream",
     "text": [
      "[4, 18, 2, 8, 3, 15, 14, 15, 20, 12]\n",
      "\n",
      "4\n",
      "18\n",
      "2\n",
      "8\n",
      "3\n",
      "15\n",
      "14\n",
      "15\n",
      "20\n",
      "12\n",
      "\n",
      "Highest: 20\n",
      "Lowest: 2\n",
      "\n",
      "Ascending List: [2, 3, 4, 8, 12, 14, 15, 15, 18, 20]\n",
      "Descending: [20, 18, 15, 15, 14, 12, 8, 4, 3, 2]\n",
      "Appended: [20, 18, 15, 15, 14, 12, 8, 4, 3, 2, 'A', 'B']\n"
     ]
    }
   ],
   "source": [
    "import random # Random Number Generator\n",
    "\n",
    "random.seed(1) # Set seed to ensure predictability of results\n",
    "\n",
    "# Create int list (10 values)\n",
    "ten_lst = [random.randint(0, 20) for i in range(10)]\n",
    "print(f'{ten_lst}\\n')\n",
    "\n",
    "# Output the list \n",
    "for i in ten_lst:\n",
    "    print(i)\n",
    "\n",
    "# Highest and Lowest Val\n",
    "print(f'\\nHighest: {max(ten_lst)}\\nLowest: {min(ten_lst)}')\n",
    "\n",
    "# Ascending and Descending\n",
    "ten_lst.sort()\n",
    "print(f'\\nAscending List: {ten_lst}')\n",
    "ten_lst.reverse()\n",
    "print(f'Descending: {ten_lst}')\n",
    "\n",
    "# Append two elements\n",
    "ten_lst.append('A')\n",
    "ten_lst.append('B')\n",
    "\n",
    "print(f'Appended: {ten_lst}')"
   ]
  },
  {
   "cell_type": "markdown",
   "metadata": {},
   "source": [
    "## **Exercise 3: Film Dictionary**\n",
    "\n",
    "Create a dictionary that contains relevant data for films (e.g. Title, Director, etc.). Display the fil details using a loop."
   ]
  },
  {
   "cell_type": "code",
   "execution_count": 25,
   "metadata": {},
   "outputs": [
    {
     "name": "stdout",
     "output_type": "stream",
     "text": [
      "Title : Nope\n",
      "Director : Jordan Peele\n",
      "Release Date : July 22, 2022\n",
      "\n",
      "\n",
      "Title : Don't Worry Darling\n",
      "Director : Olivia Wilde\n",
      "Release Date : September 23, 2022\n",
      "\n",
      "\n",
      "Title : Midsommar\n",
      "Director : Ari Aster\n",
      "Release Date : July 3, 2019\n",
      "\n",
      "\n"
     ]
    }
   ],
   "source": [
    "film_dict = {\n",
    "            1 : {'Title' : 'Nope', 'Director' : 'Jordan Peele', 'Release Date' : 'July 22, 2022'},\n",
    "            2 : {'Title' : \"Don't Worry Darling\", 'Director' : 'Olivia Wilde', 'Release Date' : 'September 23, 2022'},\n",
    "            3 : {'Title' : 'Midsommar', 'Director' : 'Ari Aster', 'Release Date' : 'July 3, 2019'}\n",
    "            }\n",
    "\n",
    "for i in film_dict:\n",
    "    for key, value in film_dict[i].items():\n",
    "        print(f'{key} : {value}')\n",
    "    print('\\n')"
   ]
  },
  {
   "cell_type": "markdown",
   "metadata": {},
   "source": [
    "## **Exercise 4: Year Tuples**\n",
    "\n",
    "Create a tuple with values:\n",
    "\n",
    "        year = (2017,2003,2011,2005,1987,2009,2020,2018,2009)\n",
    "\n",
    "- Access the value at index -3\n",
    "- Reverse the tuple and print the original tuple and reversed tuple\n",
    "- Count the number of 2009 is in the tuple (use count() method)\n",
    "- Get the index value of 2018(use index() method)\n",
    "- Find length of give tuple(use len() method)"
   ]
  },
  {
   "cell_type": "code",
   "execution_count": 41,
   "metadata": {},
   "outputs": [
    {
     "name": "stdout",
     "output_type": "stream",
     "text": [
      "2020 \n",
      "\n",
      "(2009, 2018, 2020, 2009, 1987, 2005, 2011, 2003, 2017)\n",
      "(2017, 2003, 2011, 2005, 1987, 2009, 2020, 2018, 2009)\n",
      "\n",
      " 2\n",
      "\n",
      " 7\n",
      "\n",
      " 9\n"
     ]
    }
   ],
   "source": [
    "year = (2017,2003,2011,2005,1987,2009,2020,2018,2009)\n",
    "\n",
    "# Year at [-3]\n",
    "print(year[-3],'\\n')\n",
    "\n",
    "# Reverse and Original\n",
    "print(year[::-1])\n",
    "print(year)\n",
    "\n",
    "# 2009 occurrences\n",
    "print('\\n', year.count(2009))\n",
    "\n",
    "# 2018 index value\n",
    "print('\\n',year.index(2018))\n",
    "\n",
    "# Tuple Length\n",
    "print('\\n', len(year))\n"
   ]
  },
  {
   "cell_type": "markdown",
   "metadata": {},
   "source": [
    "## **Exercise 5: Count Items**\n",
    "\n",
    "Write a Python program to count the number of times an item appears in the list\n",
    "\n",
    "`staff = [\"Arshiya\", \"Usman\", \"Iftikhar\", \"Usman\", \"Anmol\",\"Zainab\",\"Iftikhar\", \"Arshiya\",\"Jake\",\"Iftikhar\"]`\n",
    "\n",
    "(Hint: For each item in the list consider it as a key, and the number of times these items appear will be its associated value)"
   ]
  },
  {
   "cell_type": "code",
   "execution_count": 1,
   "metadata": {},
   "outputs": [
    {
     "name": "stdout",
     "output_type": "stream",
     "text": [
      "Target: Arshiya | Count: 2\n"
     ]
    }
   ],
   "source": [
    "# List of values\n",
    "staff = [\"Arshiya\", \"Usman\", \"Iftikhar\", \"Usman\", \"Anmol\",\"Zainab\",\"Iftikhar\", \"Arshiya\",\"Jake\",\"Iftikhar\"]\n",
    "\n",
    "# Set target value\n",
    "target = 'Arshiya'\n",
    "\n",
    "# Print target value and number of occurrences in list\n",
    "print(f'Target: {target} | Count: {staff.count(target)}')"
   ]
  },
  {
   "cell_type": "markdown",
   "metadata": {},
   "source": [
    "## **Optional Exercise 6: Locations List**\n",
    "\n",
    "Using the list:\n",
    "\n",
    "`locations = ['dubai','paris', 'switzerland', 'London', 'amsterdam', 'New York']`\n",
    "\n",
    "- Print the list and find the length of the list\n",
    "- Use sorted() to print your list in alphabetical order without modifying the actual list\n",
    "- Show that your list is still in its original order by printing it\n",
    "- Use sorted() to print your list in reverse alphabetical order without changing the order of the original list\n",
    "- Show that your list is still in its original order by printing it again\n",
    "- Use reverse() to change the order of your list\n",
    "- Print the list to show that its order has changed\n",
    "- Use sort() to change your list so it's stored in alphabetical order\n",
    "- Print the list to show that its order has been changed\n",
    "- Use sort() to change your list so it's stored in reverse alphabetical order\n",
    "- Print the list to show that its order has changed"
   ]
  },
  {
   "cell_type": "code",
   "execution_count": 1,
   "metadata": {},
   "outputs": [
    {
     "name": "stdout",
     "output_type": "stream",
     "text": [
      "['dubai', 'paris', 'switzerland', 'london', 'amsterdam', 'new York'] Length: 6\n",
      "\n",
      "Sorted: ['amsterdam', 'dubai', 'london', 'new York', 'paris', 'switzerland']\n",
      "Original: ['dubai', 'paris', 'switzerland', 'london', 'amsterdam', 'new York']\n",
      "\n",
      "Sorted Reverse: ['switzerland', 'paris', 'new York', 'london', 'dubai', 'amsterdam']\n",
      "Original: ['dubai', 'paris', 'switzerland', 'london', 'amsterdam', 'new York']\n",
      "\n",
      "Reverse: ['new York', 'amsterdam', 'london', 'switzerland', 'paris', 'dubai']\n",
      "Original: ['new York', 'amsterdam', 'london', 'switzerland', 'paris', 'dubai']\n",
      "\n",
      "Sort: ['amsterdam', 'dubai', 'london', 'new York', 'paris', 'switzerland']\n",
      "Original: ['amsterdam', 'dubai', 'london', 'new York', 'paris', 'switzerland']\n",
      "\n",
      "Sort Reverse: ['switzerland', 'paris', 'new York', 'london', 'dubai', 'amsterdam']\n",
      "Original: ['switzerland', 'paris', 'new York', 'london', 'dubai', 'amsterdam']\n"
     ]
    }
   ],
   "source": [
    "locations = ['dubai', 'paris', 'switzerland', 'london', 'amsterdam', 'new York']\n",
    "\n",
    "# Print and display length\n",
    "print(locations, f'Length: {len(locations)}')\n",
    "\n",
    "# Sorted and Original\n",
    "print(f'\\nSorted: {sorted(locations)}\\nOriginal: {locations}')\n",
    "\n",
    "# Sorted Reverse and Original\n",
    "print(f'\\nSorted Reverse: {sorted(locations, reverse = True)}\\nOriginal: {locations}')\n",
    "\n",
    "# Reverse List\n",
    "locations.reverse()\n",
    "print(f'\\nReverse: {locations}\\nOriginal: {locations}')\n",
    "\n",
    "# Sort back to Alphabetical\n",
    "locations.sort()\n",
    "print(f'\\nSort: {locations}\\nOriginal: {locations}')\n",
    "\n",
    "# Sort Reverse\n",
    "locations.sort(reverse = True)\n",
    "print(f'\\nSort Reverse: {locations}\\nOriginal: {locations}')"
   ]
  },
  {
   "cell_type": "markdown",
   "metadata": {},
   "source": [
    "## **Optional Exercise 7: Cities Dictionary**\n",
    "\n",
    "Make a dictionary called cities. Use the names of three cities as keys in your dictionary. Create a dictionary of information about each city and include the country that the city is in, its approximate population, and one fact about that city. The keys for each city's dictionary should be something like country, population, and fact. Print the name of each city and all of the information you have stored about it."
   ]
  },
  {
   "cell_type": "code",
   "execution_count": 67,
   "metadata": {},
   "outputs": [
    {
     "name": "stdout",
     "output_type": "stream",
     "text": [
      "City: Dubai\n",
      "Country : United Arab Emirates\n",
      "Population : 3.331 million\n",
      "Fact : Dubai is home to the tallest skyscraper in the world. Burj Khalifa measures 830m from ground to tip and boasts more than 160 stories and seven world records.\n",
      "\n",
      "\n",
      "City: London\n",
      "Country : United Kingdom\n",
      "Population : 8.982 million\n",
      "Fact : That's right. The megacity that most of us know as London is actually called 'Greater London', whilst the City of London itself is a small portion of this sprawling metropolis. It has a population of only 9,123 people, making it the smallest in England.\n",
      "\n",
      "\n",
      "City: Singapore\n",
      "Country : Singapore\n",
      "Population : 5.686 million\n",
      "Fact : Singapore is one of only three surviving city-states in the world. The other two are Monaco and the Vatican City.\n",
      "\n",
      "\n"
     ]
    }
   ],
   "source": [
    "# Set Cities Dictionary\n",
    "cities = {\n",
    "          'Dubai' : {'Country' : 'United Arab Emirates', 'Population' : '3.331 million', 'Fact' : \"Dubai is home to the tallest skyscraper in the world. Burj Khalifa measures 830m from ground to tip and boasts more than 160 stories and seven world records.\"},\n",
    "          'London' : {'Country' : 'United Kingdom', 'Population' : '8.982 million', 'Fact' : \"That's right. The megacity that most of us know as London is actually called 'Greater London', whilst the City of London itself is a small portion of this sprawling metropolis. It has a population of only 9,123 people, making it the smallest in England.\"},\n",
    "          'Singapore' : {'Country' : 'Singapore', 'Population' : '5.686 million', 'Fact' : 'Singapore is one of only three surviving city-states in the world. The other two are Monaco and the Vatican City.'}\n",
    "          }\n",
    "\n",
    "# Iterate through cities\n",
    "for i in cities:\n",
    "    # Print City Name\n",
    "    print(f'City: {i}')\n",
    "    # Iterate through City key values\n",
    "    for key, val in cities[i].items():\n",
    "        # Print Key and Value\n",
    "        print(f'{key} : {val}')\n",
    "    print('\\n') # Add new line after each city \n"
   ]
  }
 ],
 "metadata": {
  "kernelspec": {
   "display_name": "Python 3.9.12",
   "language": "python",
   "name": "python3"
  },
  "language_info": {
   "codemirror_mode": {
    "name": "ipython",
    "version": 3
   },
   "file_extension": ".py",
   "mimetype": "text/x-python",
   "name": "python",
   "nbconvert_exporter": "python",
   "pygments_lexer": "ipython3",
   "version": "3.9.12"
  },
  "orig_nbformat": 4,
  "vscode": {
   "interpreter": {
    "hash": "7ad337ee430aa24b6c49257082db1f060c62cb4993f76ac9031d230999fcbe99"
   }
  }
 },
 "nbformat": 4,
 "nbformat_minor": 2
}
