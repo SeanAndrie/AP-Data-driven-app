{
 "cells": [
  {
   "cell_type": "markdown",
   "metadata": {},
   "source": [
    "# **Chapter 1 - Exercises**"
   ]
  },
  {
   "cell_type": "markdown",
   "metadata": {},
   "source": [
    "## **Exercise 1: Print** \n",
    "\n",
    "Write a program to print the following messages: \n",
    "\n",
    "        Python uses \"interpreter\" to convert sources code into machine code.\n",
    "\n",
    "        Interpreter \"translates\" program one statement at a time."
   ]
  },
  {
   "cell_type": "code",
   "execution_count": 1,
   "metadata": {},
   "outputs": [
    {
     "name": "stdout",
     "output_type": "stream",
     "text": [
      "Python uses \"interpreter\" to convert sources code into machine code.\n",
      "Interpreter \"translates\" program one statement at a time.\n"
     ]
    }
   ],
   "source": [
    "print('Python uses \"interpreter\" to convert sources code into machine code.\\nInterpreter \"translates\" program one statement at a time.')"
   ]
  },
  {
   "cell_type": "markdown",
   "metadata": {},
   "source": [
    "## **Exercise 2: Constant variable PI**\n",
    "\n",
    "Write code to calculate the circumference and area of a circle from the radius. The program should ask the user to enter the desired radius of the circle. \n",
    "\n",
    "$π$ is defined as *3.14159*\n",
    "\n",
    "Area is defined as: $πr^2$\n",
    "\n",
    "Circumferences is defined as: $2πr^2$"
   ]
  },
  {
   "cell_type": "code",
   "execution_count": 6,
   "metadata": {},
   "outputs": [
    {
     "name": "stdout",
     "output_type": "stream",
     "text": [
      "Radius : 5\n",
      "Area: 78.53975 | Circumference: 31.4159\n"
     ]
    }
   ],
   "source": [
    "PI = 3.14159 # Pi constant\n",
    "r = int(input('Please enter the radius of the circle: ')) # Take input from user\n",
    "\n",
    "area = PI * r * r # Area Formula\n",
    "circum = 2*(PI * r) # Circumference Formula\n",
    "\n",
    "# Print result\n",
    "print(f'Radius : {r}')\n",
    "print(f'Area: {area} | Circumference: {circum}')"
   ]
  },
  {
   "cell_type": "markdown",
   "metadata": {},
   "source": [
    "## **Exercise 3 a: User Input Output**\n",
    "\n",
    "Write a code to prompt the user to input her/his name, age, and hometown and print these details on the screen. The format of text should look like the sample output below but you can only use a single print when outputting the information.\n",
    "\n",
    "`Your Name is: Alpha`\n",
    "\n",
    "`Your Age is: 22`\n",
    "\n",
    "`Your Hometown is: Ras Al Khaimah`"
   ]
  },
  {
   "cell_type": "code",
   "execution_count": 8,
   "metadata": {},
   "outputs": [
    {
     "name": "stdout",
     "output_type": "stream",
     "text": [
      "Your Name is: Sean\n",
      "Your Age is: 19\n",
      "Your Hometown is: Bulacan\n"
     ]
    }
   ],
   "source": [
    "name, age, hometown = input('Name: '), int(input('Age: ')), input('Hometown: ') # Takes input from user\n",
    "print('Your Name is: {0}\\nYour Age is: {1}\\nYour Hometown is: {2}'.format(name, age, hometown)) # Print output"
   ]
  },
  {
   "cell_type": "markdown",
   "metadata": {},
   "source": [
    "## **Exercise 3 b: User Input Output**\n",
    "\n",
    "Write code to prompt the user to input her/his name and age and print these details on the screen. Find the length of the name and also the age of the user after one year. The format of the text should look like the sample output below. (Use **title()** function)"
   ]
  },
  {
   "cell_type": "code",
   "execution_count": 19,
   "metadata": {},
   "outputs": [
    {
     "name": "stdout",
     "output_type": "stream",
     "text": [
      "Hello, user! What is your name?\n",
      "Sean \n",
      "What is your age?\n",
      "19\n",
      "It is good to meet you, Sean \n",
      "The length of your name is: \n",
      "5\n",
      "You will be 20 in a year\n"
     ]
    }
   ],
   "source": [
    "print('Hello, user! What is your name?') \n",
    "name = input() # Take name input\n",
    "print(f'{name}')\n",
    "print('What is your age?')\n",
    "age = int(input()) # Take age input\n",
    "print(f'{age}')\n",
    "\n",
    "# Print output\n",
    "print(f'It is good to meet you, {name}\\nThe length of your name is: \\n{len(name)}\\nYou will be {age+1} in a year') "
   ]
  },
  {
   "cell_type": "markdown",
   "metadata": {},
   "source": [
    "## **Exercise 4: Number Input Output**\n",
    "\n",
    "Write code to prompt the user to input 3 integer values and print these values in forward and reversed order in a similar format to below.\n",
    "\n",
    "`enter three numbers`\n",
    "\n",
    "`number 1 :10`\n",
    "\n",
    "`number 2 : 20`\n",
    "\n",
    "`number 3 :60`\n",
    "\n",
    "`Your numbers forward:`\n",
    "\n",
    "`10`\n",
    "\n",
    "`20`\n",
    "\n",
    "`60`\n",
    "\n",
    "`Your numbers reversed:`\n",
    "\n",
    "`60`\n",
    "\n",
    "`20`\n",
    "\n",
    "`10`"
   ]
  },
  {
   "cell_type": "code",
   "execution_count": 20,
   "metadata": {},
   "outputs": [
    {
     "name": "stdout",
     "output_type": "stream",
     "text": [
      "Enter Three Numbers: \n",
      "Your numbers forward: \n",
      "10\n",
      "20\n",
      "60\n",
      "Your numbers reversed: \n",
      "60\n",
      "20\n",
      "10\n"
     ]
    }
   ],
   "source": [
    "print('Enter Three Numbers: ')\n",
    "inp = [int(input(f'Number {i+1}')) for i in range(3)] # Creates an array of three integers taken from user input\n",
    "print('Your numbers forward: ')\n",
    "\n",
    "for i in inp:\n",
    "    print(i)\n",
    "\n",
    "print('Your numbers reversed: ')\n",
    "\n",
    "for i in inp[::-1]: # Reverse array with slicing method\n",
    "    print(i)"
   ]
  },
  {
   "cell_type": "markdown",
   "metadata": {},
   "source": [
    "## **Exercise 5: Maths**\n",
    "\n",
    "Write a program that evaluates the following calculations for two int numbers obtained from the user and outputs the results to the console:\n",
    "\n",
    "> Sum (+) | Diff (-) | Product (x) | Quotient (/) | Remainder (%)"
   ]
  },
  {
   "cell_type": "code",
   "execution_count": 24,
   "metadata": {},
   "outputs": [
    {
     "name": "stdout",
     "output_type": "stream",
     "text": [
      "First Int: 10\n",
      "Second Int: 5\n",
      "\n",
      "Sum: 15\n",
      "Difference: 5\n",
      "Product: 50\n",
      "Quotient: 2.0\n",
      "Remainder: 0\n"
     ]
    }
   ],
   "source": [
    "a, b = int(input('Enter First Integer: ')), int(input('Enter Second Integer')) # Takes two integers from user as input\n",
    "\n",
    "# Print calculations\n",
    "print(f'First Int: {a}\\nSecond Int: {b}\\n')\n",
    "print(f'Sum: {a+b}\\nDifference: {a-b}\\nProduct: {a*b}\\nQuotient: {a/b}\\nRemainder: {a%b}')"
   ]
  },
  {
   "cell_type": "markdown",
   "metadata": {},
   "source": [
    "## **Exercise 6: Is it Triangle**\n",
    "\n",
    "Write a program that asks the user to enter the lengths of the three sides of a triangle. Use the triangle inequality to determine if we have a triangle: In mathematics, the triangle inequality states that for any triangle, the sum of the lengths of any two sides must be greater than or equal to the length of the remaining side.\n",
    "\n",
    "**Extension Problem (Optional):**\n",
    "\n",
    "If valid, ask the user for the length of the sides and have the program correctly classify the type of triangle as either: Equilateral, Isosceles or Scalene.\n",
    "\n",
    "___\n",
    "\n",
    "*Notes* : \n",
    "\n",
    "Mathematical expression used for validation:\n",
    "\n",
    "$|a-b|<c<a+b$"
   ]
  },
  {
   "cell_type": "code",
   "execution_count": 6,
   "metadata": {},
   "outputs": [
    {
     "name": "stdout",
     "output_type": "stream",
     "text": [
      "Error: Triangle is not possible with given sides\n"
     ]
    }
   ],
   "source": [
    "# Get values for triangle sides from user\n",
    "a, b, c = int(input('Enter First Side: ')), int(input('Enter Second Side: ')), int(input('Enter Third Side: '))\n",
    "\n",
    "# Check if given inputs are result to a valid triangle \n",
    "if abs(a-b) < c and c < (a + b): # abs() takes the absolute value\n",
    "    print('Valid')\n",
    "    if a == b == c:\n",
    "        print('Equilateral')\n",
    "    elif a == b or a == c or c == b:\n",
    "        print('Isosceles')\n",
    "    else:\n",
    "        print('Scalene')\n",
    "else:\n",
    "    print('Error: Triangle is not possible with given sides')"
   ]
  },
  {
   "cell_type": "markdown",
   "metadata": {},
   "source": [
    "Alternatively, ..."
   ]
  },
  {
   "cell_type": "code",
   "execution_count": 1,
   "metadata": {},
   "outputs": [
    {
     "name": "stdout",
     "output_type": "stream",
     "text": [
      "[94, 50, 34]\n",
      "Error: Triangle is not possible with given sides\n"
     ]
    }
   ],
   "source": [
    "# Helper function for triangle validation\n",
    "def validate(sides):\n",
    "    return True if abs(sides[0]-sides[1]) < sides[2] and sides[2] < (sides[0] + sides[1]) else False\n",
    "\n",
    "# Classification function\n",
    "def classify(sides):\n",
    "    # Dictionary consisting of no. of side occurrences as key and classification as pair\n",
    "    tri_dict = {3: 'Equilateral', 2: 'Isosceles', 1: 'Scalene'} # Key for 'Scalene' value is 1 because count method returns 1 for single occurrences\n",
    "    if validate(sides) == True:\n",
    "        print('Valid')\n",
    "        for i in range(len(sides)):\n",
    "            if sides.count(sides[i]) == list(tri_dict.keys())[i]:\n",
    "                return tri_dict[sides.count(sides[i])]\n",
    "    else:\n",
    "        return 'Error: Triangle is not possible with given sides'\n",
    "\n",
    "sides = [int(input(f'Side {i+1}:')) for i in range(3)] # Create an array of three numbers taken from user as input\n",
    "\n",
    "# Print output\n",
    "print(sides)\n",
    "print(classify(sides))"
   ]
  },
  {
   "cell_type": "markdown",
   "metadata": {},
   "source": [
    "## **Exercise 7: Is it Even?**\n",
    "\n",
    "Write a program that allows the user to input a number and checks whether the number is even or not using the Ternary operator."
   ]
  },
  {
   "cell_type": "code",
   "execution_count": 106,
   "metadata": {},
   "outputs": [
    {
     "name": "stdout",
     "output_type": "stream",
     "text": [
      "Even\n"
     ]
    }
   ],
   "source": [
    "n = int(input('Enter a number: '))\n",
    "print('Even' if n % 2 == 0 else 'Odd')"
   ]
  },
  {
   "cell_type": "markdown",
   "metadata": {},
   "source": [
    "## **Exercise 8: Largest Number**\n",
    "\n",
    "Write a program to input three numbers and output the largest using\n",
    "\n",
    "- The Ternary Operator\n",
    "- The multiple if-else operator"
   ]
  },
  {
   "cell_type": "code",
   "execution_count": 126,
   "metadata": {},
   "outputs": [
    {
     "name": "stdout",
     "output_type": "stream",
     "text": [
      "3\n"
     ]
    }
   ],
   "source": [
    "lst_inp = [int(input(f'Enter Number {i}')) for i in range(3)]\n",
    "\n",
    "# Ternary\n",
    "max_val = lst_inp[0] if lst_inp[0] > lst_inp[1] else lst_inp[1] if lst_inp[1] > lst_inp[2] else lst_inp[2]\n",
    "\n",
    "# Multiple If-else\n",
    "max_val = 0\n",
    "\n",
    "if lst_inp[0] > lst_inp[1]:\n",
    "    max_val = lst_inp[0]\n",
    "elif lst_inp[1] > lst_inp[2]:\n",
    "    max_val = lst_inp[1]\n",
    "else: \n",
    "    max_val = lst_inp[2]\n",
    "\n",
    "print(max_val)"
   ]
  },
  {
   "cell_type": "markdown",
   "metadata": {},
   "source": [
    "## **Exercise 9: Continue**\n",
    "\n",
    "Write a program that implements a while loop. This program should ask the user if they would like to continue and use the while loop to keep looping as long as they enter the letter Y. Once the while loop has terminated output the number of times it is executed. "
   ]
  },
  {
   "cell_type": "code",
   "execution_count": 13,
   "metadata": {},
   "outputs": [
    {
     "name": "stdout",
     "output_type": "stream",
     "text": [
      "The while loop executed 8 times.\n"
     ]
    }
   ],
   "source": [
    "i = 0\n",
    "c = 'Y'\n",
    "while c.upper() == 'Y':\n",
    "    i+=1\n",
    "    opt = input('Would you like to continue? Y/N')\n",
    "    if opt.upper() == 'N':\n",
    "        break\n",
    "\n",
    "print(f'The while loop executed {i} times.')"
   ]
  },
  {
   "cell_type": "markdown",
   "metadata": {},
   "source": [
    "## **Exercise 10: FizzBuzz**\n",
    "\n",
    "Write a program that prints the numbers from 1 to 100. But for multiples of three print 'Fizz' instead of the number and for the multiples fo five print 'Buzz'. For numbers which are multiples of both three and five print 'FizzBuzz'."
   ]
  },
  {
   "cell_type": "code",
   "execution_count": 12,
   "metadata": {},
   "outputs": [
    {
     "name": "stdout",
     "output_type": "stream",
     "text": [
      "1\n",
      "2\n",
      "Fizz\n",
      "4\n",
      "Buzz\n",
      "Fizz\n",
      "7\n",
      "8\n",
      "Fizz\n",
      "Buzz\n",
      "11\n",
      "Fizz\n",
      "13\n",
      "14\n",
      "FizzBuzz\n",
      "16\n",
      "17\n",
      "Fizz\n",
      "19\n",
      "Buzz\n",
      "Fizz\n",
      "22\n",
      "23\n",
      "Fizz\n",
      "Buzz\n",
      "26\n",
      "Fizz\n",
      "28\n",
      "29\n",
      "FizzBuzz\n",
      "31\n",
      "32\n",
      "Fizz\n",
      "34\n",
      "Buzz\n",
      "Fizz\n",
      "37\n",
      "38\n",
      "Fizz\n",
      "Buzz\n",
      "41\n",
      "Fizz\n",
      "43\n",
      "44\n",
      "FizzBuzz\n",
      "46\n",
      "47\n",
      "Fizz\n",
      "49\n",
      "Buzz\n",
      "Fizz\n",
      "52\n",
      "53\n",
      "Fizz\n",
      "Buzz\n",
      "56\n",
      "Fizz\n",
      "58\n",
      "59\n",
      "FizzBuzz\n",
      "61\n",
      "62\n",
      "Fizz\n",
      "64\n",
      "Buzz\n",
      "Fizz\n",
      "67\n",
      "68\n",
      "Fizz\n",
      "Buzz\n",
      "71\n",
      "Fizz\n",
      "73\n",
      "74\n",
      "FizzBuzz\n",
      "76\n",
      "77\n",
      "Fizz\n",
      "79\n",
      "Buzz\n",
      "Fizz\n",
      "82\n",
      "83\n",
      "Fizz\n",
      "Buzz\n",
      "86\n",
      "Fizz\n",
      "88\n",
      "89\n",
      "FizzBuzz\n",
      "91\n",
      "92\n",
      "Fizz\n",
      "94\n",
      "Buzz\n",
      "Fizz\n",
      "97\n",
      "98\n",
      "Fizz\n",
      "Buzz\n"
     ]
    }
   ],
   "source": [
    "for i in range(1, 101):\n",
    "    if i % 3 == 0 and i % 5 == 0:\n",
    "        print('FizzBuzz')\n",
    "        continue\n",
    "    \n",
    "    elif i % 3 == 0:\n",
    "        print('Fizz')\n",
    "        continue\n",
    "    \n",
    "    elif i % 5 == 0:\n",
    "        print('Buzz')\n",
    "        continue\n",
    "\n",
    "    print(i)"
   ]
  },
  {
   "cell_type": "markdown",
   "metadata": {},
   "source": [
    "## **Exercise 11: Even Numbers**\n",
    "\n",
    "Write a program that prints the even numbers 1 to 100. Hint: Use Continue Statement"
   ]
  },
  {
   "cell_type": "code",
   "execution_count": 141,
   "metadata": {},
   "outputs": [
    {
     "name": "stdout",
     "output_type": "stream",
     "text": [
      "0\n",
      "2\n",
      "4\n",
      "6\n",
      "8\n",
      "10\n",
      "12\n",
      "14\n",
      "16\n",
      "18\n",
      "20\n",
      "22\n",
      "24\n",
      "26\n",
      "28\n",
      "30\n",
      "32\n",
      "34\n",
      "36\n",
      "38\n",
      "40\n",
      "42\n",
      "44\n",
      "46\n",
      "48\n",
      "50\n",
      "52\n",
      "54\n",
      "56\n",
      "58\n",
      "60\n",
      "62\n",
      "64\n",
      "66\n",
      "68\n",
      "70\n",
      "72\n",
      "74\n",
      "76\n",
      "78\n",
      "80\n",
      "82\n",
      "84\n",
      "86\n",
      "88\n",
      "90\n",
      "92\n",
      "94\n",
      "96\n",
      "98\n"
     ]
    }
   ],
   "source": [
    "for i in range(0, 100):\n",
    "    if i % 2 != 0:\n",
    "        continue\n",
    "\n",
    "    print(i)"
   ]
  },
  {
   "cell_type": "markdown",
   "metadata": {},
   "source": [
    "## **Optional Exercise 12: Count Seconds**\n",
    "\n",
    "Write a program that calculates the number of seconds in a day. Hint: Ask user to enter number of days, convert days into hours, hours to minutes minutes to seconds."
   ]
  },
  {
   "cell_type": "code",
   "execution_count": 9,
   "metadata": {},
   "outputs": [
    {
     "name": "stdout",
     "output_type": "stream",
     "text": [
      "There are 259200 seconds in 3 days.\n"
     ]
    }
   ],
   "source": [
    "days = int(input('Enter Number of Days: '))\n",
    "\n",
    "# (Number of Days x Hours in a day) x (Minutes x Seconds) | (n x 24) x (60**2) Note: 60^2 since minutes and seconds are both 60\n",
    "print(f'There are {(days * 24) * (60**2)} seconds in {days} days.')"
   ]
  },
  {
   "cell_type": "markdown",
   "metadata": {},
   "source": [
    "## **Optional Exercise 13: Sum of digits in a Number**\n",
    "\n",
    "Write a Python program to find the sum of digits in a number. For example, if user enters a number 1234 the result is 1+2+3+4 = 10"
   ]
  },
  {
   "cell_type": "code",
   "execution_count": 12,
   "metadata": {},
   "outputs": [
    {
     "name": "stdout",
     "output_type": "stream",
     "text": [
      "[1, 2, 3, 4] = 10\n"
     ]
    }
   ],
   "source": [
    "def sum_n(n):\n",
    "    # Store each char in string to list\n",
    "    lst = [int(i) for i in n]\n",
    "\n",
    "    # Initialize sum as 0\n",
    "    sm = 0\n",
    "\n",
    "    # Iterate through list and add list elements\n",
    "    for i in lst:\n",
    "        sm+=i\n",
    "    \n",
    "    # Return sum of list and list elements\n",
    "    return sm, lst\n",
    "\n",
    "user_inp = input()\n",
    "sm, lst = sum_n(user_inp)\n",
    "print(f'{lst} = {sm}')"
   ]
  },
  {
   "cell_type": "markdown",
   "metadata": {},
   "source": [
    "## **Optional Exercise 14: Print Pattern**\n",
    "\n",
    "Write a program to display the following pattern using nested loops.\n",
    "\n",
    "`1`\n",
    "\n",
    "`1 2`\n",
    "\n",
    "`1 2 3`\n",
    "\n",
    "`1 2 3 4`\n",
    "\n",
    "`1 2 3 4 5`"
   ]
  },
  {
   "cell_type": "code",
   "execution_count": 17,
   "metadata": {},
   "outputs": [
    {
     "name": "stdout",
     "output_type": "stream",
     "text": [
      "\n",
      "\n",
      "1 \n",
      "\n",
      "1 2 \n",
      "\n",
      "1 2 3 \n",
      "\n",
      "1 2 3 4 \n",
      "\n",
      "1 2 3 4 5 \n",
      "\n"
     ]
    }
   ],
   "source": [
    "# Outer loop: Rows\n",
    "for i in range(6):\n",
    "    # Inner loop: Column\n",
    "    for j in range(1, i+1):\n",
    "        print(j, end = ' ')\n",
    "    print('\\n')"
   ]
  },
  {
   "cell_type": "markdown",
   "metadata": {},
   "source": [
    "## **Optional Exercise 15: Multiplication Tables**\n",
    "\n",
    "Write a program to print Multiplication table in following format from 1 to 10 tables. Hint: Use nested loops."
   ]
  },
  {
   "cell_type": "code",
   "execution_count": 192,
   "metadata": {},
   "outputs": [
    {
     "name": "stdout",
     "output_type": "stream",
     "text": [
      "Mulitplication Table of : 12 \n",
      "12 x 1 = 12\n",
      "12 x 2 = 24\n",
      "12 x 3 = 36\n",
      "12 x 4 = 48\n",
      "12 x 5 = 60\n",
      "12 x 6 = 72\n",
      "12 x 7 = 84\n",
      "12 x 8 = 96\n",
      "12 x 9 = 108\n",
      "12 x 10 = 120\n"
     ]
    }
   ],
   "source": [
    "n = int(input('Enter number you wish to see the multiplication table of: '))\n",
    "print(f'Mulitplication Table of : {n} ')\n",
    "\n",
    "# With single loop\n",
    "for i in range(10):\n",
    "    print(f'{n} x {i+1} = {n * (i+1)}')"
   ]
  },
  {
   "cell_type": "code",
   "execution_count": 10,
   "metadata": {},
   "outputs": [
    {
     "name": "stdout",
     "output_type": "stream",
     "text": [
      "Multiplication Table of : 5\n",
      "5 x 1 = 5\n",
      "5 x 2 = 10\n",
      "5 x 3 = 15\n",
      "5 x 4 = 20\n",
      "5 x 5 = 25\n",
      "5 x 6 = 30\n",
      "5 x 7 = 35\n",
      "5 x 8 = 40\n",
      "5 x 9 = 45\n",
      "5 x 10 = 50\n"
     ]
    }
   ],
   "source": [
    "n = int(input('Enter number you wish to see the multiplication table of: '))\n",
    "print(f'Multiplication Table of : {n}')\n",
    "\n",
    "# with nested loops\n",
    "a = 1\n",
    "for i in range(10):\n",
    "    print(f'{n} x {a} = {n * a}')\n",
    "    for i in range(1):\n",
    "        a+=1"
   ]
  }
 ],
 "metadata": {
  "kernelspec": {
   "display_name": "Python 3.9.12",
   "language": "python",
   "name": "python3"
  },
  "language_info": {
   "codemirror_mode": {
    "name": "ipython",
    "version": 3
   },
   "file_extension": ".py",
   "mimetype": "text/x-python",
   "name": "python",
   "nbconvert_exporter": "python",
   "pygments_lexer": "ipython3",
   "version": "3.9.12 (main, Apr  4 2022, 05:22:27) [MSC v.1916 64 bit (AMD64)]"
  },
  "orig_nbformat": 4,
  "vscode": {
   "interpreter": {
    "hash": "7ad337ee430aa24b6c49257082db1f060c62cb4993f76ac9031d230999fcbe99"
   }
  }
 },
 "nbformat": 4,
 "nbformat_minor": 2
}
