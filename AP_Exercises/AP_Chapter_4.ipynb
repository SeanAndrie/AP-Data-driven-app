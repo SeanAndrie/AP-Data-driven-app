{
 "cells": [
  {
   "cell_type": "markdown",
   "metadata": {},
   "source": [
    "# **Chapter 4 - Exercises**"
   ]
  },
  {
   "cell_type": "markdown",
   "metadata": {},
   "source": [
    "## **Exercise 1: User Information**\n",
    "\n",
    "Write a program to create a file called **bio.txt** and write the following information to the file asking user to enter the values: Name Age Hometown Each piece of data should be on a new line Once the data has been written to the file, read the data from the file and output the data.    "
   ]
  },
  {
   "cell_type": "code",
   "execution_count": 9,
   "metadata": {},
   "outputs": [],
   "source": [
    "# Create and append inputs to text file\n",
    "with open('bio.txt', 'a') as biofile:\n",
    "    # Iterate through list\n",
    "    for i in ['Name', 'Age', 'Hometown']:\n",
    "        biofile.writelines('{}:{}\\n'.format(i, input(f'Enter your {i}: ')))"
   ]
  },
  {
   "cell_type": "code",
   "execution_count": 18,
   "metadata": {},
   "outputs": [
    {
     "name": "stdout",
     "output_type": "stream",
     "text": [
      "Name:Sean\n",
      "Age:19\n",
      "Hometown:Bulacan\n"
     ]
    }
   ],
   "source": [
    "# Open and read bio.txt\n",
    "with open('bio.txt', 'r') as result: \n",
    "    # Iterate through each line\n",
    "    for i in result.readlines():\n",
    "        print(i.rstrip())"
   ]
  },
  {
   "cell_type": "markdown",
   "metadata": {},
   "source": [
    "## **Exercise 2: Count**\n",
    "\n",
    "The file **sentences.txt** has a list of string data. Create a program that finds how many times the following sentence appears: 'Hello my name is Amster Sani'."
   ]
  },
  {
   "cell_type": "code",
   "execution_count": 3,
   "metadata": {},
   "outputs": [
    {
     "name": "stdout",
     "output_type": "stream",
     "text": [
      "Target Sentence: Hello my name is Amster Sani | Occurences: 9\n"
     ]
    }
   ],
   "source": [
    "# Set target sentence\n",
    "target = 'Hello my name is Amster Sani'\n",
    "\n",
    "# Open and read file\n",
    "with open('sentences.txt', 'r') as sentences_file:\n",
    "    str_lst = [i.rstrip() for i in sentences_file.readlines()] # List comprehension to extract sentences from file and append to list\n",
    "    print(f'Target Sentence: {target} | Occurences: {str_lst.count(target)}') # Print out number of occurrences of target in file"
   ]
  },
  {
   "cell_type": "markdown",
   "metadata": {},
   "source": [
    "## **Exercise 3: Reading to a List**\n",
    "\n",
    "The file **numbers.txt** has a list of 100 integer numbers each on a newline. Create a program that puts this data into a list, then output the values in integer format.    "
   ]
  },
  {
   "cell_type": "code",
   "execution_count": null,
   "metadata": {},
   "outputs": [
    {
     "name": "stdout",
     "output_type": "stream",
     "text": [
      "[58, 19, 4, 46, 52, 33, 36, 96, 15, 97, 37, 42, 88, 83, 62, 91, 79, 25, 1, 10, 39, 47, 16, 55, 2, 69, 59, 90, 43, 82, 74, 80, 92, 38, 12, 50, 34, 87, 32, 21, 23, 78, 9, 89, 71, 68, 93, 57, 86, 5, 8, 81, 70, 18, 20, 67, 3, 56, 11, 48, 99, 98, 17, 14, 30, 76, 63, 40, 61, 13, 64, 60, 100, 6, 66, 84, 41, 22, 72, 45, 94, 75, 95, 26, 49, 51, 7, 53, 29, 31, 28, 27, 85, 24, 65, 44, 77, 54, 73, 35]\n"
     ]
    }
   ],
   "source": [
    "# Open and read numbers.txt file\n",
    "with open('numbers.txt', 'r') as numbersfile:\n",
    "    # Remove trailing characters, convert str to int, append to list\n",
    "    lst = [int(i.rstrip()) for i in numbersfile.readlines()]\n",
    "\n",
    "# Print list\n",
    "print(lst)"
   ]
  },
  {
   "cell_type": "markdown",
   "metadata": {},
   "source": [
    "## **Exercise 4: Petrol Price**\n",
    "\n",
    "Every time a motorist buys some petrol, he notes the number of liters bought and the amount paid per liter. This data can be found in the **petrolPrice.txt** file in your GitHub repository.The data is stored in columns separated by a tabbed space, like the following sample:\n",
    "\n",
    "|Liters|Cost|\n",
    "|-|-|\n",
    "20.0 | 56.40\n",
    "9.6 | 29.95\n",
    "5.0 | 15.60\n",
    "15.0 | 54.30\n",
    "18.4 | 65.32\n",
    "18.7 | 75.36\n",
    "17.7 | 80.00\n",
    "\n",
    "Write a program that calculates:\n",
    "\n",
    "- What was the overall average price per litre of petrol bought?\n",
    "- How much petrol in litres was bought at under 3.5AED per litre?"
   ]
  },
  {
   "cell_type": "code",
   "execution_count": 7,
   "metadata": {},
   "outputs": [
    {
     "name": "stdout",
     "output_type": "stream",
     "text": [
      "Average price per litre of petrol bought: 3.5\n",
      "Petrol in liters bought at under 3.5 AED per liter: [20.0, 9.6, 5.0] => 34.6\n"
     ]
    }
   ],
   "source": [
    "# Open and read petrolPrice.txt file\n",
    "with open('petrolPrice.txt', 'r') as petrolPrice:\n",
    "    # Create 2-dimensional array out of data\n",
    "    lst = [i.rstrip().split('\\t') for i in petrolPrice.readlines()] # Remove trailing characters and split by tab space\n",
    "\n",
    "# Get 'Cost' column; Convert each item to float\n",
    "price_per_litre = [float(lst[i][1])/float(lst[i][0]) for i in range(len(lst))]\n",
    "\n",
    "# Get average price\n",
    "average_price = sum(price_per_litre) / len(price_per_litre)\n",
    "print(f'Average price per litre of petrol bought: {round(average_price, 1)}')\n",
    "\n",
    "# Bought below 3.5AED; Divide liters by cost\n",
    "below = [float(lst[i][0]) for i in range(len(lst)) if float(lst[i][1]) / float(lst[i][0]) < 3.5 ] \n",
    "print(f'Petrol in liters bought at under 3.5 AED per liter: {below} => {sum(below)}')"
   ]
  },
  {
   "cell_type": "code",
   "execution_count": 4,
   "metadata": {},
   "outputs": [
    {
     "data": {
      "text/plain": [
       "[['20.0', '56.40'],\n",
       " ['9.6', '29.95'],\n",
       " ['5.0', '15.60'],\n",
       " ['15.0', '54.30'],\n",
       " ['18.4', '65.32'],\n",
       " ['18.7', '75.36'],\n",
       " ['17.7', '80.00']]"
      ]
     },
     "execution_count": 4,
     "metadata": {},
     "output_type": "execute_result"
    }
   ],
   "source": [
    "lst"
   ]
  },
  {
   "cell_type": "markdown",
   "metadata": {},
   "source": [
    "## **Exercise 5: Letter Count**\n",
    "\n",
    "Write a program that reads the contents of the **sentences.txt** file and counts the occurrences of each letter. "
   ]
  },
  {
   "cell_type": "code",
   "execution_count": 8,
   "metadata": {},
   "outputs": [
    {
     "name": "stdout",
     "output_type": "stream",
     "text": [
      "{'a': 255, 'b': 35, 'c': 65, 'd': 114, 'e': 398, 'f': 53, 'g': 62, 'h': 181, 'i': 230, 'j': 7, 'k': 27, 'l': 150, 'm': 117, 'n': 197, 'o': 244, 'p': 44, 'q': 1, 'r': 148, 's': 212, 't': 314, 'u': 95, 'v': 32, 'w': 75, 'x': 6, 'y': 76, 'z': 1}\n"
     ]
    }
   ],
   "source": [
    "import string # String module to access lowercase ASCII character collection\n",
    "\n",
    "# Open and read sentences.txt file\n",
    "with open('sentences.txt', 'r') as sentences:\n",
    "    # Create dictionary of alphabets, initialize key value to 0\n",
    "    alpha = dict.fromkeys(string.ascii_lowercase, 0)\n",
    "\n",
    "    # Turn sentences to lower case, remove trailing chars, split on whitespace\n",
    "    sentences = [i.lower().rstrip().split(' ') for i in sentences.readlines()]\n",
    "    \n",
    "    # Separate into words\n",
    "    words = []\n",
    "    for i in sentences:\n",
    "        for j in i:\n",
    "            words.append(j)\n",
    "\n",
    "    # Separate into characters\n",
    "    chars = []\n",
    "    for i in words:\n",
    "        for j in i:\n",
    "            if j in alpha.keys(): # If char is a letter\n",
    "                chars.append(j)\n",
    "\n",
    "    # Iterate through characters list\n",
    "    for i in chars:\n",
    "        alpha[i] += 1\n",
    "\n",
    "# Display alphabet dictionary\n",
    "print(alpha)"
   ]
  },
  {
   "cell_type": "markdown",
   "metadata": {},
   "source": [
    "## **Exercise 6: Password Check**\n",
    "\n",
    "Write a program to check the validity of a password given by user. The password should satisfy the following criteria:\n",
    "\n",
    "- Contain at least 1 letter between a and z\n",
    "- Contain at least 1 number between 0 and 9\n",
    "- Contain at least 1 letter between A and Z\n",
    "- Contain at least 1 character from $, #, @\n",
    "- Minimum length of password: 6\n",
    "- Maximum length of password: 12\n",
    "\n",
    "Ask user to include a maximum of 5 passcode attempts. Each time the user enters an incorrect passcode, they should be prompted of how many passcode attempts remain. If there are 5 failed passcode attempts the while loop should break and inform the user that the authorities have been alerted!"
   ]
  },
  {
   "cell_type": "code",
   "execution_count": 16,
   "metadata": {},
   "outputs": [],
   "source": [
    "import re # Regex module\n",
    "\n",
    "# Password validation function \n",
    "def password_check(str):\n",
    "    # Regex pattern\n",
    "    rgx = \"^(?=.*?[A-Z])(?=.*?[a-z])(?=.*?[0-9])(?=.*?[$#@]).{6,12}$\"\n",
    "\n",
    "    # False for no matches, True when match found\n",
    "    if re.match(rgx, str) == None:\n",
    "        return False\n",
    "\n",
    "    return True"
   ]
  },
  {
   "cell_type": "code",
   "execution_count": 21,
   "metadata": {},
   "outputs": [
    {
     "name": "stdout",
     "output_type": "stream",
     "text": [
      "Error: Invalid Input\n"
     ]
    }
   ],
   "source": [
    "# Initialize variables\n",
    "bool = False\n",
    "attempts = 5\n",
    "\n",
    "# Loop while attempts is not greater than 0 and no matches have been found\n",
    "while attempts > 0 and bool == False:\n",
    "    # Get user input\n",
    "    inp = input(f'({attempts} Attempts Remaining)\\nPassword: ') \n",
    "    bool = password_check(inp)\n",
    "    \n",
    "    # Break if password is a match or attempts == 0\n",
    "    if bool == True or attempts == 0 or inp.isalpha == False or inp.isnumeric() == False:\n",
    "        break\n",
    "    \n",
    "    # Decrement for each wrong attempt\n",
    "    attempts-=1\n",
    "\n",
    "if bool == True:\n",
    "    print(f'Password Verified!')\n",
    "\n",
    "elif inp.isalpha == False or inp.isnumeric() == False:\n",
    "    print(f'Error: Invalid Input')\n",
    "\n",
    "else:\n",
    "    print('Too many wrong attempts. The authorities have been alerted!')"
   ]
  },
  {
   "cell_type": "code",
   "execution_count": null,
   "metadata": {},
   "outputs": [],
   "source": []
  }
 ],
 "metadata": {
  "kernelspec": {
   "display_name": "Python 3.9.12",
   "language": "python",
   "name": "python3"
  },
  "language_info": {
   "codemirror_mode": {
    "name": "ipython",
    "version": 3
   },
   "file_extension": ".py",
   "mimetype": "text/x-python",
   "name": "python",
   "nbconvert_exporter": "python",
   "pygments_lexer": "ipython3",
   "version": "3.9.12 (main, Apr  4 2022, 05:22:27) [MSC v.1916 64 bit (AMD64)]"
  },
  "orig_nbformat": 4,
  "vscode": {
   "interpreter": {
    "hash": "7ad337ee430aa24b6c49257082db1f060c62cb4993f76ac9031d230999fcbe99"
   }
  }
 },
 "nbformat": 4,
 "nbformat_minor": 2
}
