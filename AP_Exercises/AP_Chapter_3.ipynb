{
 "cells": [
  {
   "cell_type": "markdown",
   "metadata": {},
   "source": [
    "# **Chapter 3 - Exercises**"
   ]
  },
  {
   "cell_type": "markdown",
   "metadata": {},
   "source": [
    "## **Exercise 1: Format Name**\n",
    "\n",
    "Write a function that takes a first and last name through user input, and returns a neatly formatted full name."
   ]
  },
  {
   "cell_type": "code",
   "execution_count": 4,
   "metadata": {},
   "outputs": [
    {
     "name": "stdout",
     "output_type": "stream",
     "text": [
      "Sean Gadingan\n"
     ]
    }
   ],
   "source": [
    "# Format Name Function: Takes the user's first and last name as arguments and returns formatted full name\n",
    "def format_name(first_name, last_name):\n",
    "    return f'{first_name} {last_name}'\n",
    "\n",
    "# Takes user's first and last name\n",
    "f = input('Enter your first name: ')\n",
    "l = input('Enter your last name: ')\n",
    "\n",
    "# Print return value\n",
    "print(format_name(f, l))"
   ]
  },
  {
   "cell_type": "markdown",
   "metadata": {},
   "source": [
    "## **Exercise 2: Sum Function**\n",
    "\n",
    "Write a program that calculates the sum of two values. The program should get the two values from user input and output the results to screen."
   ]
  },
  {
   "cell_type": "code",
   "execution_count": 8,
   "metadata": {},
   "outputs": [
    {
     "name": "stdout",
     "output_type": "stream",
     "text": [
      "7\n"
     ]
    }
   ],
   "source": [
    "# Adds the values a and b and returns its sum\n",
    "def Sum(a, b):\n",
    "    return a + b\n",
    "\n",
    "# Takes first and second value from the user input\n",
    "a, b = int(input('Enter First Value: ')), int(input('Enter Second Value: '))\n",
    "print(Sum(a, b))"
   ]
  },
  {
   "cell_type": "markdown",
   "metadata": {},
   "source": [
    "## **Exercise 3: Area Function**\n",
    "\n",
    "Code a program to display a menu on the screen that asks if the user wants to:\n",
    "\n",
    "1. Calculate the area of a square\n",
    "2. Calculate the area of a circle\n",
    "3. Calculate the area of a triangle\n",
    "\n",
    "Each of the 3 functions should ask for the necessary information (e.g. lenghts and/or angles and output the answer)."
   ]
  },
  {
   "cell_type": "code",
   "execution_count": 18,
   "metadata": {},
   "outputs": [
    {
     "name": "stdout",
     "output_type": "stream",
     "text": [
      "Select from the following:\n",
      "\n",
      "1. Area of a Square\n",
      "2. Area of a Circle\n",
      "3. Area of a Triangle\n",
      "\n",
      "Selected: Square\n",
      "Square Area: 9\n"
     ]
    }
   ],
   "source": [
    "# Square area function\n",
    "def square_area(side):\n",
    "    return a**2\n",
    "\n",
    "# Circle area function\n",
    "def circle_area(radius):\n",
    "    return round(3.14159*(radius**2), 2)\n",
    "\n",
    "# Triangle area function\n",
    "def triangle_area(base, height):\n",
    "    return (base*height)/2\n",
    "\n",
    "# Selection Menu | Ask user for selection\n",
    "print('Select from the following:\\n\\n1. Area of a Square\\n2. Area of a Circle\\n3. Area of a Triangle')\n",
    "opt = int(input('Enter a number from the selection above: '))\n",
    "\n",
    "# Conditions\n",
    "if opt == 1:\n",
    "    print('\\nSelected: Square')\n",
    "    a = int(input('Enter Side Value: ')) # Asks user for side value\n",
    "    print(f'Square Area: {square_area(a)}')\n",
    "elif opt == 2:\n",
    "    print('\\nSelected: Circle')\n",
    "    r = int(input('Enter Radius: ')) # Asks user for radius value\n",
    "    print(f'Circle Area: {circle_area(r)}')\n",
    "elif opt == 3:\n",
    "    print('\\nSelected: Triangle')\n",
    "    b, h = int(input('Enter Base: ')), int(input('Enter Height: ')) # Asks user for base and height values\n",
    "    print(f'Triangle Area: {triangle_area(b,h)}')\n",
    "else:\n",
    "    print('Error: Invalid Input') # Error if input is not in the selection \n",
    "    "
   ]
  },
  {
   "cell_type": "markdown",
   "metadata": {},
   "source": [
    "## **Exercise 4: Calculator Function**\n",
    "\n",
    "The program should display the following calculator menu:\n",
    "\n",
    "1. Add\n",
    "2. Subtract\n",
    "3. Multiply\n",
    "4. Divide\n",
    "5. Modulus\n",
    "\n",
    "The program will prompt the user to choose the operation choice(from 1 to 5). Then it asks the user to input values for the calculation. The program outputs the results of the calculation. The program should end by asking if the user would like to perform another calculation or not."
   ]
  },
  {
   "cell_type": "code",
   "execution_count": 1,
   "metadata": {},
   "outputs": [
    {
     "name": "stdout",
     "output_type": "stream",
     "text": [
      "5 + 10 = 15\n",
      "10 - 5 = 5\n"
     ]
    }
   ],
   "source": [
    "# Sum Function\n",
    "def add(a, b):\n",
    "    return a + b\n",
    "\n",
    "# Difference Function\n",
    "def subtract(a, b):\n",
    "    return a - b\n",
    "\n",
    "# Product Function\n",
    "def multiply(a, b):\n",
    "    return a * b\n",
    "\n",
    "# Quotient Function\n",
    "def divide(a, b):\n",
    "    return a / b\n",
    "\n",
    "def calculator():\n",
    "\n",
    "    c = int(input('Pick a number corresponding to the following operations:\\n1. Addition\\n2. Subtraction\\n3. Mutiplication\\n4. Division'))\n",
    "    out = 0\n",
    "\n",
    "    if c == 1: \n",
    "        a, b = int(input('Enter First Number: ')), int(input('Enter Second Number: '))\n",
    "        out = add(a, b)\n",
    "        print(f'{a} + {b} = {add(a, b)}')\n",
    "    elif c == 2: \n",
    "        a, b = int(input('Enter First Number: ')), int(input('Enter Second Number: '))\n",
    "        out = subtract(a, b)\n",
    "        print(f'{a} - {b} = {subtract(a, b)}')\n",
    "    elif c == 3: \n",
    "        a, b = int(input('Enter First Number: ')), int(input('Enter Second Number: '))\n",
    "        out = multiply(a, b)\n",
    "        print(f'{a} * {b} = {multiply(a, b)}')\n",
    "    elif c == 4: \n",
    "        a, b = int(input('Enter First Number: ')), int(input('Enter Second Number: '))\n",
    "        out = divide(a, b)\n",
    "        print(f'{a} / {b} = {divide(a, b)}')\n",
    "    else:\n",
    "        print('Wrong Input')\n",
    "\n",
    "    d = input('Would you like to perform another calculation? Y/N')\n",
    "\n",
    "    if d.lower() == 'y':\n",
    "        calculator()\n",
    "    else:\n",
    "        return out\n",
    "\n",
    "calculator()"
   ]
  },
  {
   "cell_type": "markdown",
   "metadata": {},
   "source": [
    "## **Exercise 5: Product of List Items**\n",
    "\n",
    "Write a program that passes a list as an argument to a function. The function should then calculate the product(values multiplied) of the list values and return this value back to the main program."
   ]
  },
  {
   "cell_type": "code",
   "execution_count": 8,
   "metadata": {},
   "outputs": [
    {
     "name": "stdout",
     "output_type": "stream",
     "text": [
      "Random List: [1, 2, 3, 4, 5]\n",
      "Result: 120\n"
     ]
    }
   ],
   "source": [
    "# Product function\n",
    "def product(n):\n",
    "\n",
    "    # Get first value in the list\n",
    "    prod = n[0]\n",
    "\n",
    "    # Iterate through the list of values\n",
    "    for i in n:\n",
    "        prod*=i\n",
    "    return n, prod\n",
    "\n",
    "\n",
    "lst_len = int(int(input('Enter Length of List: '))) # Ask user for length of list\n",
    "lst = [int(input(f'Enter values {i+1}: ')) for i in range(lst_len)] # Get values using list comprehension\n",
    "\n",
    "# Take returned list of values and product from production function\n",
    "returned_lst, result = product(lst)\n",
    "# Display results\n",
    "print(f'Random List: {lst}\\nResult: {result}')"
   ]
  },
  {
   "cell_type": "markdown",
   "metadata": {},
   "source": [
    "## **Exercise 6: Factorial**\n",
    "\n",
    "Find a factorial of n numbers using recursive function."
   ]
  },
  {
   "cell_type": "code",
   "execution_count": 4,
   "metadata": {},
   "outputs": [
    {
     "name": "stdout",
     "output_type": "stream",
     "text": [
      "5! = 120\n"
     ]
    }
   ],
   "source": [
    "# Recursive Factorial Function\n",
    "def factorial(n):\n",
    "    return n if n == 1 else n*factorial(n-1)\n",
    "\n",
    "# Ask user for an integer\n",
    "num = int(input())\n",
    "\n",
    "if num < 0:\n",
    "    print('There are no factorials for negative numbers.')\n",
    "elif num == 0:\n",
    "    print('0! is 1')\n",
    "else:\n",
    "    print(f'{num}! = {factorial(num)}')"
   ]
  },
  {
   "cell_type": "markdown",
   "metadata": {},
   "source": [
    "## **Exercise 7: Lambda Function**\n",
    "\n",
    "Create the list marks with the given values:\n",
    "\n",
    "`marks = [(\"CodeLab I\",67),(\"web Development\", 75),(\"CodeLabII\",74),(\"Smartphone Apps\",68),(\"Games Development\",70),(\"Responsive web\",65)]`\n",
    "\n",
    "Using lambda function in the function sort the list elements of the tuple based on marks low to high and high to low."
   ]
  },
  {
   "cell_type": "code",
   "execution_count": 10,
   "metadata": {},
   "outputs": [
    {
     "name": "stdout",
     "output_type": "stream",
     "text": [
      "[('Responsive web', 65), ('CodeLab I', 67), ('Smartphone Apps', 68), ('Games Development', 70), ('CodeLabII', 74), ('web Development', 75)]\n"
     ]
    }
   ],
   "source": [
    "marks = [(\"CodeLab I\",67),(\"web Development\", 75),(\"CodeLabII\",74),(\"Smartphone Apps\",68),(\"Games Development\",70),(\"Responsive web\",65)]\n",
    "get_marks = lambda x: x[1]\n",
    "marks.sort(key=get_marks)\n",
    "print(marks)"
   ]
  },
  {
   "cell_type": "markdown",
   "metadata": {},
   "source": [
    "## **Optional Exercise 8: Count Characters**\n",
    "\n",
    "Write a program to count number of vowels and consonants in the given string output:\n",
    "\n",
    "        Enter a word: hello world\n",
    "\n",
    "        Total number of letters: 11\n",
    "\n",
    "        Number of vowels: 3\n",
    "\n",
    "        Number of consonants: 7\n",
    "\n",
    "        Number of special characters: 1"
   ]
  },
  {
   "cell_type": "code",
   "execution_count": 64,
   "metadata": {},
   "outputs": [
    {
     "name": "stdout",
     "output_type": "stream",
     "text": [
      "Total Number of Characters: 11\n",
      "Number of Vowels: 3\n",
      "Number of Consonants: 7\n",
      "Number of Special Characters: 1\n"
     ]
    }
   ],
   "source": [
    "def count_char(inp_str):\n",
    "\n",
    "    # List of vowels and consonants\n",
    "    consonants = ['b', 'c', 'd', 'f', 'g', 'h', 'j', 'k', 'l', 'm', 'n', 'p', 'q', 'r', 's', 't', 'v', 'w', 'x', 'y', 'z']\n",
    "    vowels = ['a', 'e', 'i', 'o', 'u']\n",
    "\n",
    "    # Initialize vowel, consonant, and special char counters to 0\n",
    "    vows = 0\n",
    "    cons = 0\n",
    "    special_char = 0\n",
    "\n",
    "    # Iterate through input string\n",
    "    for i in inp_str.lower():\n",
    "        if  i in vowels: \n",
    "            vows+=1\n",
    "        elif i in consonants:\n",
    "            cons+=1\n",
    "        else: \n",
    "            special_char+=1\n",
    "    \n",
    "    return vows, cons, special_char, len(inp_str)\n",
    "\n",
    "# Ask user for a string\n",
    "inp_str = input('Enter a word: ')\n",
    "\n",
    "# Take vowel, consonant, special char values finals and total number of letters in input string\n",
    "v_num, c_num, sc_num, str_len = count_char(inp_str)\n",
    "\n",
    "# Display result\n",
    "print(f'Total Number of Characters: {str_len}\\nNumber of Vowels: {v_num}\\nNumber of Consonants: {c_num}\\nNumber of Special Characters: {sc_num}')"
   ]
  },
  {
   "cell_type": "markdown",
   "metadata": {},
   "source": [
    "## **Optional Execise 9: Power Recursive Function**\n",
    "\n",
    "Write a program to find power of number using recursive function.\n",
    "\n",
    "Output:\n",
    "\n",
    "        Enter the number: 2\n",
    "\n",
    "        Enter the power value: 3\n",
    "\n",
    "        The value of 2 to the power of 3 is 8"
   ]
  },
  {
   "cell_type": "code",
   "execution_count": 4,
   "metadata": {},
   "outputs": [
    {
     "name": "stdout",
     "output_type": "stream",
     "text": [
      "The value of 2 to the power of 3 is 8\n"
     ]
    }
   ],
   "source": [
    "# Recursive Power Function | Args: 1. base (base number), 2. power (power value)\n",
    "def get_pow(base, power):\n",
    "    return 1 if power == 0 else base * get_pow(base, power-1)\n",
    "\n",
    "# Ask user for base and power value     \n",
    "n = int(input('Enter a number: '))\n",
    "pow = int(input('Enter power value: '))\n",
    "\n",
    "# Display result\n",
    "print(f'The value of {n} to the power of {pow} is {get_pow(n, pow)}')"
   ]
  }
 ],
 "metadata": {
  "kernelspec": {
   "display_name": "Python 3.9.12",
   "language": "python",
   "name": "python3"
  },
  "language_info": {
   "codemirror_mode": {
    "name": "ipython",
    "version": 3
   },
   "file_extension": ".py",
   "mimetype": "text/x-python",
   "name": "python",
   "nbconvert_exporter": "python",
   "pygments_lexer": "ipython3",
   "version": "3.9.12"
  },
  "orig_nbformat": 4,
  "vscode": {
   "interpreter": {
    "hash": "7ad337ee430aa24b6c49257082db1f060c62cb4993f76ac9031d230999fcbe99"
   }
  }
 },
 "nbformat": 4,
 "nbformat_minor": 2
}
