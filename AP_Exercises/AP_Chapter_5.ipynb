{
 "cells": [
  {
   "cell_type": "markdown",
   "metadata": {},
   "source": [
    "# **Chapter 5 - Exercises**"
   ]
  },
  {
   "cell_type": "markdown",
   "metadata": {},
   "source": [
    "## **Exercise 1: Woof Woof**\n",
    "\n",
    "Write a program that declares a class which defines the characteristics of a dog. The program should instantiate two objects from this class and assign data to its members. The program should then output the data from each object and the oldest dog should woof via a class method.    "
   ]
  },
  {
   "cell_type": "code",
   "execution_count": 27,
   "metadata": {},
   "outputs": [
    {
     "name": "stdout",
     "output_type": "stream",
     "text": [
      "Name: Joe\n",
      "Breed: German Shepherd\n",
      "Age: 28\n",
      "\n",
      "Name: Nuts\n",
      "Breed: Poodle\n",
      "Age: 22\n",
      "\n",
      "Joe:\n",
      "Woof\n"
     ]
    }
   ],
   "source": [
    "class Dog:\n",
    "    def __init__(self, name, breed, age):\n",
    "        self.name = name\n",
    "        self.breed = breed\n",
    "        self.age = age\n",
    "\n",
    "    def show_details(self):\n",
    "        print(f'Name: {self.name}\\nBreed: {self.breed}\\nAge: {self.age}\\n')\n",
    "    \n",
    "    def woof(self):\n",
    "        print('Woof')\n",
    "\n",
    "d1 = Dog('Joe', 'German Shepherd', 28)\n",
    "d2 = Dog('Nuts', 'Poodle', 22)\n",
    "\n",
    "d1.show_details()\n",
    "d2.show_details()\n",
    "\n",
    "if d1.age > d2.age:\n",
    "    print(f'{d1.name}:')\n",
    "    d1.woof()\n",
    "else:\n",
    "    print(f'{d2.name}')\n",
    "    d2.woof()"
   ]
  },
  {
   "cell_type": "markdown",
   "metadata": {},
   "source": [
    "## **Exercise 2: Student Class**\n",
    "\n",
    "Create a class called students.\n",
    "\n",
    "- The class should have the following members.Name (string), Mark1 (int), Mark2 (int), Mark3 (int)\n",
    "- The class should have the following methods calcGrade() - should return an average from the three marks.display()- should output the student name and calculated grade average\n",
    "- Create one object using a constructor that contains parameters to initialise all of the variables\n",
    "- Ask user to input the variable values using input() and pass the values to the second object  "
   ]
  },
  {
   "cell_type": "code",
   "execution_count": 36,
   "metadata": {},
   "outputs": [
    {
     "name": "stdout",
     "output_type": "stream",
     "text": [
      "Student Name: Sean\n",
      "Average: 89.33333333333333\n"
     ]
    }
   ],
   "source": [
    "# Create class\n",
    "class Students:\n",
    "    # Initialize \n",
    "    def __init__(self, name, mark1, mark2, mark3):\n",
    "        self.name = name\n",
    "        self.mark1 = mark1\n",
    "        self.mark2 = mark2\n",
    "        self.mark3 = mark3\n",
    "    \n",
    "    # Calculates the average grade from self.marks 1 to 3\n",
    "    def calcGrade(self):\n",
    "        return (self.mark1 + self.mark2 + self.mark3)/3\n",
    "\n",
    "    # Displays student's name and their average grade\n",
    "    def display(self):\n",
    "        print(f'Student Name: {self.name}\\nAverage: {Students.calcGrade(self)}')\n",
    "\n",
    "# With constructor\n",
    "Students('Sean', 90, 86, 92).display()"
   ]
  },
  {
   "cell_type": "code",
   "execution_count": 35,
   "metadata": {},
   "outputs": [
    {
     "name": "stdout",
     "output_type": "stream",
     "text": [
      "Student Name: Claude\n",
      "Average: 90.0\n"
     ]
    }
   ],
   "source": [
    "# With input\n",
    "name = input('Enter your name: ')\n",
    "marks = [int(input('Enter your marks: (3)\\n')) for i in range(3)]\n",
    "\n",
    "Students(name, marks[0], marks[1], marks[2]).display()"
   ]
  },
  {
   "cell_type": "markdown",
   "metadata": {},
   "source": [
    "## **Exercise 3: Employee Class**\n",
    "\n",
    "Create an employee class with the following members: name, age, id, salary\n",
    "\n",
    "Add the following methods: **setData()** - should allow employee data to be set via user input, **getData()** - should output employee data to the console\n",
    "Now create a list of 5 employees. You can create a list of objects in the following way, appending the objects to the lists."
   ]
  },
  {
   "cell_type": "code",
   "execution_count": 9,
   "metadata": {},
   "outputs": [],
   "source": [
    "# Create Employee class\n",
    "class Employee:\n",
    "    # Instantiate employee list class attribute\n",
    "    __emp_lst = [] \n",
    "\n",
    "    # Object constructor\n",
    "    def __init__(self, name, age, id, salary):\n",
    "        self.name = name\n",
    "        self.age = age\n",
    "        self.id = id\n",
    "        self.salary = salary\n",
    "    \n",
    "    # Class method that creates Employee objects and appends them to employee list attribute\n",
    "    @classmethod\n",
    "    def setData(cls, n_employees):\n",
    "        cls.__emp_lst = [Employee(input('Name: '), int(input('Age: ')), int(input('ID: ')), int(input('Salary: '))) for i in range(n_employees)]\n",
    "    \n",
    "    # Displays data on a table\n",
    "    def getData():\n",
    "        print('Name\\tAge\\tID\\tSalary')\n",
    "        for i in Employee.__emp_lst: \n",
    "            print(f'{i.name}\\t{i.age}\\t{i.id}\\t{i.salary}')\n"
   ]
  },
  {
   "cell_type": "code",
   "execution_count": 10,
   "metadata": {},
   "outputs": [],
   "source": [
    "# Create five employee objects\n",
    "Employee.setData(5)"
   ]
  },
  {
   "cell_type": "code",
   "execution_count": 11,
   "metadata": {},
   "outputs": [
    {
     "name": "stdout",
     "output_type": "stream",
     "text": [
      "Name\tAge\tID\tSalary\n",
      "AAA\t1\t20\t2000\n",
      "BBB\t2\t22\t2500\n",
      "CCC\t3\t20\t1500\n",
      "DDD\t4\t22\t3500\n",
      "EEE\t5\t22\t4000\n"
     ]
    },
    {
     "data": {
      "text/plain": [
       "[<__main__.Employee at 0x1e8c7847b80>,\n",
       " <__main__.Employee at 0x1e8c7a52520>,\n",
       " <__main__.Employee at 0x1e8c7bb94c0>,\n",
       " <__main__.Employee at 0x1e8c786f040>,\n",
       " <__main__.Employee at 0x1e8c786f7f0>]"
      ]
     },
     "execution_count": 11,
     "metadata": {},
     "output_type": "execute_result"
    }
   ],
   "source": [
    "# Display data\n",
    "Employee.getData()"
   ]
  },
  {
   "cell_type": "markdown",
   "metadata": {},
   "source": [
    "## **Exercise 4: Shapes**\n",
    "\n",
    "Create a parent class called shape. \n",
    "\n",
    "This should have the following methods **inputSides()** - Ask user to enter the sides of the shape. Now create subclasses for a circle, rectangle, and triangle. These should include an appropriate **area()** method that will use the side values from the shape class."
   ]
  },
  {
   "cell_type": "code",
   "execution_count": 322,
   "metadata": {},
   "outputs": [],
   "source": [
    "from scipy import pi # Get pi constant from scipy module\n",
    "\n",
    "# Shape Parent Class\n",
    "class Shape: \n",
    "\n",
    "    # Execute inputSides private method upon object initialization\n",
    "    def __init__(self):\n",
    "        self.sides = self.__inputSides()\n",
    "\n",
    "    # Asks the user to input the sides of the shape\n",
    "    def __inputSides(self):\n",
    "            inp = int(input('Enter Number of Sides: '))\n",
    "            return inp\n",
    "\n",
    "# Circle Sub Class\n",
    "class Circle(Shape):\n",
    "    # Inherit parent class attributes and methods\n",
    "    def __init__(self):\n",
    "        super().__init__()\n",
    "\n",
    "    # Circle Area Method\n",
    "    def area(self):\n",
    "        if self.sides > 0:\n",
    "            return 'Error: Circles do not have sides'\n",
    "        \n",
    "        # Take radius from user input\n",
    "        r = int(input('Enter Radius: '))\n",
    "\n",
    "        return pi * r**2\n",
    "\n",
    "# Rectangle Sub Class\n",
    "class Rectangle(Shape):\n",
    "    def __init__(self):\n",
    "        super().__init__()\n",
    "    \n",
    "    # Rectangle Area Method\n",
    "    def area(self):\n",
    "        if self.sides != 4:\n",
    "            return 'Error: Rectangles only have 4 sides'\n",
    "        \n",
    "        # Take width and length from user input\n",
    "        w, l = int(input('Enter Width: ')), int(input('Enter Height: '))\n",
    "\n",
    "        return w * l\n",
    "\n",
    "# Triangle Sub Class\n",
    "class Triangle(Shape):\n",
    "    def __init__(self):\n",
    "        super().__init__()\n",
    "\n",
    "    # Triangle Area Method\n",
    "    def area(self):\n",
    "        if self.sides != 3:\n",
    "            return 'Error: Triangles only have 3 sides'\n",
    "        \n",
    "        # Take height and base from user input\n",
    "        h, b = int(input('Enter Height: ')), int(input('Enter Base: '))\n",
    "\n",
    "        return (h*b) / 2"
   ]
  },
  {
   "cell_type": "code",
   "execution_count": 319,
   "metadata": {},
   "outputs": [
    {
     "data": {
      "text/plain": [
       "50.26548245743669"
      ]
     },
     "execution_count": 319,
     "metadata": {},
     "output_type": "execute_result"
    }
   ],
   "source": [
    "# Circle Area:\n",
    "c = Circle()\n",
    "c.area()"
   ]
  },
  {
   "cell_type": "code",
   "execution_count": 320,
   "metadata": {},
   "outputs": [
    {
     "data": {
      "text/plain": [
       "50"
      ]
     },
     "execution_count": 320,
     "metadata": {},
     "output_type": "execute_result"
    }
   ],
   "source": [
    "# Rectangle\n",
    "r = Rectangle()\n",
    "r.area()"
   ]
  },
  {
   "cell_type": "code",
   "execution_count": 321,
   "metadata": {},
   "outputs": [
    {
     "data": {
      "text/plain": [
       "6.0"
      ]
     },
     "execution_count": 321,
     "metadata": {},
     "output_type": "execute_result"
    }
   ],
   "source": [
    "# Triangle\n",
    "t = Triangle()\n",
    "t.area()"
   ]
  },
  {
   "cell_type": "markdown",
   "metadata": {},
   "source": [
    "## **Optional Exercise 5: Playing around in class**\n",
    "\n",
    "Use this exercise to play around with creating and accessing class members and methods. Create a class called Animal\n",
    "\n",
    "- Give the class at least the following members Type, Name, Colour, Age, Weight, Noise\n",
    "- The class should have the following methods sayHello() - says its name via print,makeNoise() -make an appropriate noise via print, animalDetails() -output all the details of the animal object\n",
    "- Instantiate at least two objects from your animal class (e.g. Dog, Cow)\n",
    "- Set values for each of the variables\n",
    "- Invoke each of the class functions"
   ]
  },
  {
   "cell_type": "code",
   "execution_count": 323,
   "metadata": {},
   "outputs": [],
   "source": [
    "# Create class\n",
    "class Animal:\n",
    "    # Constructor\n",
    "    def __init__(self, name, colour, age, weight, noise):\n",
    "        self.name = name\n",
    "        self.colour = colour\n",
    "        self.age = age\n",
    "        self.weight = weight\n",
    "        self.noise = noise\n",
    "    \n",
    "    # Prints out name attr\n",
    "    def sayHello(self):\n",
    "        print(f'{self.name}')\n",
    "\n",
    "    # Prints out noise attr\n",
    "    def makeNoise(self):\n",
    "        print(f'{self.noise}')\n",
    "\n",
    "    # Prints out all class attr\n",
    "    def details(self):\n",
    "        print(f'Name: {self.name}\\nColour: {self.colour}\\nAge: {self.age}\\nWeight: {self.weight}\\nNoise: {self.noise}')"
   ]
  },
  {
   "cell_type": "code",
   "execution_count": 325,
   "metadata": {},
   "outputs": [
    {
     "name": "stdout",
     "output_type": "stream",
     "text": [
      " * Dog Class\n",
      "\n",
      "sayHello Method:\n",
      "Joe\n",
      "makeNoise Method:\n",
      "Woof!\n",
      "\n",
      " * Cow Class\n",
      "\n",
      "sayHello Method:\n",
      "Nuts\n",
      "makeNoise Method:\n",
      "Moo!\n"
     ]
    }
   ],
   "source": [
    "Dog = Animal('Joe', 'Brown', 15, '22kg', 'Woof!')\n",
    "Cow = Animal('Nuts', 'Black and White', 12, '1100kg', 'Moo!')\n",
    "\n",
    "print(' * Dog Class\\n')\n",
    "print('sayHello Method:')\n",
    "Dog.sayHello()\n",
    "print('makeNoise Method:')\n",
    "Dog.makeNoise()\n",
    "\n",
    "print('\\n * Cow Class\\n')\n",
    "print('sayHello Method:')\n",
    "Cow.sayHello()\n",
    "print('makeNoise Method:')\n",
    "Cow.makeNoise()"
   ]
  }
 ],
 "metadata": {
  "kernelspec": {
   "display_name": "Python 3.9.12",
   "language": "python",
   "name": "python3"
  },
  "language_info": {
   "codemirror_mode": {
    "name": "ipython",
    "version": 3
   },
   "file_extension": ".py",
   "mimetype": "text/x-python",
   "name": "python",
   "nbconvert_exporter": "python",
   "pygments_lexer": "ipython3",
   "version": "3.9.12 (main, Apr  4 2022, 05:22:27) [MSC v.1916 64 bit (AMD64)]"
  },
  "orig_nbformat": 4,
  "vscode": {
   "interpreter": {
    "hash": "7ad337ee430aa24b6c49257082db1f060c62cb4993f76ac9031d230999fcbe99"
   }
  }
 },
 "nbformat": 4,
 "nbformat_minor": 2
}
