{
 "cells": [
  {
   "cell_type": "markdown",
   "metadata": {},
   "source": [
    "# **Chapter 6 - Exercises**"
   ]
  },
  {
   "cell_type": "markdown",
   "metadata": {},
   "source": [
    "## **Exercise 1: Basic Math**\n",
    "\n",
    "Using math module compute the following: \n",
    "\n",
    "- For a = 2.3, find the ceil of a\n",
    "- For a 2.3, find the floor of a\n",
    "- For a = 5, find the factorial of a\n",
    "- Find the value of 2^3\n",
    "- For a = 16, find the square root of a"
   ]
  },
  {
   "cell_type": "code",
   "execution_count": 11,
   "metadata": {},
   "outputs": [
    {
     "name": "stdout",
     "output_type": "stream",
     "text": [
      "a = 2.3\n",
      "Ceil: 3\n",
      "Floor: 2\n",
      "\n",
      "a = 5\n",
      "Factorial: 120\n",
      "\n",
      "2^3: 8.0\n",
      "\n",
      "a = 16\n",
      "Square Root: 4.0\n"
     ]
    }
   ],
   "source": [
    "import math\n",
    " \n",
    "a = 2.3\n",
    "\n",
    "# Ceiling and Floor\n",
    "print(f'a = {a}')\n",
    "print(f'Ceil: {math.ceil(a)}')\n",
    "print(f'Floor: {math.floor(a)}')\n",
    "\n",
    "a = 5\n",
    "\n",
    "# Factorial\n",
    "print(f'\\na = {a}')\n",
    "print(f'Factorial: {math.factorial(a)}')\n",
    "\n",
    "# Power\n",
    "print(f'\\n2^3: {math.pow(2, 3)}')\n",
    "\n",
    "a = 16\n",
    "\n",
    "# Square root\n",
    "print(f'\\na = {a}')\n",
    "print(f'Square Root: {math.sqrt(a)}')"
   ]
  },
  {
   "cell_type": "markdown",
   "metadata": {},
   "source": [
    "## **Exercise 2: Numpy Array**\n",
    "\n",
    "For the array **a = [20,23,82,40,32,15,67,52]**, print the output of the following:\n",
    "\n",
    "- Find the indices of even numbers\n",
    "- Sort the array\n",
    "- Slice elements from index 3 to the end of the array\n",
    "- Slice elements from index 0 to index 4\n",
    "- Print [32, 15, 67] using negative slicing"
   ]
  },
  {
   "cell_type": "code",
   "execution_count": 30,
   "metadata": {},
   "outputs": [
    {
     "name": "stdout",
     "output_type": "stream",
     "text": [
      "Even number indices: (array([0, 2, 3, 4, 7], dtype=int64),)\n",
      "\n",
      "Sorted Array: [15 20 23 32 40 52 67 82]\n",
      "\n",
      "Sliced from index 3 to end of array: [82 40 32 15 67]\n",
      "\n",
      "Sliced from index 0 to index 4: [20 23 82 40]\n",
      "\n",
      "[32, 15, 67] with negative slicing: [32 15 67]\n"
     ]
    }
   ],
   "source": [
    "import numpy as np\n",
    "\n",
    "a = np.array([20,23,82,40,32,15,67,52])\n",
    "\n",
    "# Get the indices of even numbers\n",
    "even = np.where(a % 2 == 0)\n",
    "print(f'Even number indices: {even}')\n",
    "\n",
    "# Sort numpy array\n",
    "sort = np.sort(a)\n",
    "print(f'\\nSorted Array: {sort}')\n",
    "\n",
    "# Slice from index 3 to end of array\n",
    "print(f'\\nSliced from index 3 to end of array: {a[2: -1]}')\n",
    "\n",
    "# Slice elements from index 0 to index 4\n",
    "print(f'\\nSliced from index 0 to index 4: {a[0:4]}')\n",
    "\n",
    "# Negative slicing\n",
    "print(f'\\n[32, 15, 67] with negative slicing: {a[-4:-1]}')"
   ]
  },
  {
   "cell_type": "markdown",
   "metadata": {},
   "source": [
    "## **Exercise 3: Calculator**\n",
    "\n",
    "Write a program that will display the following calculator menu:\n",
    "\n",
    "1. Add\n",
    "2. Subtract\n",
    "3. Multiply\n",
    "4. Divide\n",
    "5. Modulus\n",
    "6. Check greater number\n",
    "\n",
    "The program will prompt the user to choose the operation choice (from 1 to 6). The it asks the user to input values for the calculation. The program outputs the results of the calculation. Use operator module functions.\n",
    "\n",
    "### **Extension Problem (Optional):**\n",
    "\n",
    "- Allow the user to keep entering values until they enter Q to quit.\n",
    "- Handle correct input."
   ]
  },
  {
   "cell_type": "code",
   "execution_count": 396,
   "metadata": {},
   "outputs": [],
   "source": [
    "# Import operator module\n",
    "import operator\n",
    "import random\n",
    "\n",
    "# Calculator class\n",
    "class Calculator:\n",
    "    def __init__(self, random_values:bool = False):\n",
    "        self.random_values = random_values\n",
    "    \n",
    "        # Operation Dictionary\n",
    "        self._op_dict = {1 : 'Addition',\n",
    "                         2 : 'Subtraction',\n",
    "                         3 : 'Multiplication',\n",
    "                         4 : 'Division',\n",
    "                         5 : 'Modulus',\n",
    "                         6 : 'Greater than'}\n",
    "        \n",
    "        # Print out menu\n",
    "        self.menu()\n",
    "\n",
    "        # Get chosen operator\n",
    "        self.operation = self._get_operation()\n",
    "\n",
    "        # Set values\n",
    "        self.values = self._get_values()\n",
    "\n",
    "        # Calculate results\n",
    "        self.result = None\n",
    "        \n",
    "        # Perform operation\n",
    "        self._conditions()\n",
    "\n",
    "    # Addition\n",
    "    def _add(self):\n",
    "        sm = 0\n",
    "        for i in self.values:\n",
    "            sm = operator.add(sm, i)\n",
    "        self.result = sm\n",
    "    \n",
    "    # Subtraction\n",
    "    def _subtract(self):\n",
    "        diff = self.values[0] # Set as value at 0th index\n",
    "        neg_idx = -(len(self.values) - 1) # Create negative index pointer i.e., -(n - 1) with n being the length of the list\n",
    "\n",
    "        # Iteratively subtract elements with negative indexing\n",
    "        for i in range(len(self.values)-1): # (n - 1) with n being the length of the list to exclude 0th/-nth index value\n",
    "            diff = operator.sub(diff, self.values[neg_idx])\n",
    "            neg_idx+=1 \n",
    "        self.result = diff\n",
    "    \n",
    "    # Mulitplication\n",
    "    def _multiply(self):\n",
    "        prod = 1 \n",
    "        for i in self.values:\n",
    "            prod = operator.mul(prod, i)\n",
    "        self.result = prod\n",
    "    \n",
    "    # Division\n",
    "    def _divide(self):\n",
    "        quo = 1\n",
    "        for i in self.values:\n",
    "            quo = operator.truediv(quo, i)\n",
    "        self.result = quo\n",
    "    \n",
    "    # Modulus\n",
    "    def _modulus(self):\n",
    "        # Only perform operation when values list contains two values\n",
    "        if len(self.values) == 2:\n",
    "            mod = operator.mod(*self.values)\n",
    "            self.result = mod if mod > 0 else 0\n",
    "        \n",
    "        else:\n",
    "            print('Input Error: Cannot perform modulus operation with more than 2 values.')\n",
    "    \n",
    "    # Greater than\n",
    "    def _greater_than(self):\n",
    "        max = 0\n",
    "        for idx, val in enumerate(self.values):\n",
    "            max = val if operator.gt(val, self.values[idx-1]) else self.values[idx-1]\n",
    "        self.result = max\n",
    "\n",
    "    def menu(self):\n",
    "        print(f'\\tCalculator\\n1. Add\\n2.Subtract\\n3.Multiply\\n4.Divide\\n5.Modulus\\n6.Check greater number')\n",
    "\n",
    "    # Get operation from user input\n",
    "    def _get_operation(self):\n",
    "        opt = ''\n",
    "        while opt.isnumeric() == False:\n",
    "            opt = input('Pick a number from the selection above: ')\n",
    "        \n",
    "        return self._op_dict[int(opt)]\n",
    "    \n",
    "    # Set user-defined or random values\n",
    "    def _get_values(self):\n",
    "        values = []\n",
    "\n",
    "        if self.random_values == True:\n",
    "            # Set size of list\n",
    "            size = int(input('Enter Total Number of Values: '))\n",
    "\n",
    "            # Get range of values for list (min - max) to randomly choose from\n",
    "            min_val = int(input('Enter Min Value: '))\n",
    "            max_val = int(input('Enter Max Value: '))\n",
    "\n",
    "            if min_val > max_val:\n",
    "                print(f'Input Error: Max Value must be greater than Min Value.')\n",
    "\n",
    "            else:\n",
    "                for i in range(size):\n",
    "                    values.append(random.randint(min_val, max_val))\n",
    "\n",
    "        else:\n",
    "            while True:\n",
    "                inp = input(\"Enter Values (Press 'Q' to stop inputting values): \")\n",
    "\n",
    "                if inp.lower() == 'q':\n",
    "                    break\n",
    "                \n",
    "                values.append(int(inp))\n",
    "\n",
    "        return values\n",
    "    \n",
    "    # Conditions on which operation to perform-\n",
    "    def _conditions(self):\n",
    "        if self.operation == 'Addition':\n",
    "            self._add()\n",
    "\n",
    "        if self.operation == 'Subtraction':\n",
    "            self._subtract()\n",
    "\n",
    "        if self.operation == 'Multiplication':\n",
    "            self._multiply()\n",
    "\n",
    "        if self.operation == 'Division':\n",
    "            self._divide()\n",
    "\n",
    "        if self.operation == 'Modulus':\n",
    "            self._modulus()\n",
    "        \n",
    "        if self.operation == 'Greater than':\n",
    "            self._greater_than()\n",
    "    \n",
    "    # Display calculator summary i.e., Operation, Values, Result\n",
    "    def calc_summary(self):\n",
    "        print(f'\\nCalculator Summary\\n------------------\\nOperation : {self.operation}\\nValues : {self.values}\\nResult : {self.result}')"
   ]
  },
  {
   "cell_type": "code",
   "execution_count": 384,
   "metadata": {},
   "outputs": [
    {
     "name": "stdout",
     "output_type": "stream",
     "text": [
      "\tCalculator\n",
      "1. Add\n",
      "2.Subtract\n",
      "3.Multiply\n",
      "4.Divide\n",
      "5.Modulus\n",
      "6.Check greater number\n",
      "\n",
      "Calculator Summary\n",
      "------------------\n",
      "Operation : Addition\n",
      "Values : [1, 2, 3, 4, 5]\n",
      "Result : 15\n"
     ]
    }
   ],
   "source": [
    "# Addtion Operator\n",
    "add = Calculator()\n",
    "add.calc_summary()"
   ]
  },
  {
   "cell_type": "code",
   "execution_count": 386,
   "metadata": {},
   "outputs": [
    {
     "name": "stdout",
     "output_type": "stream",
     "text": [
      "\tCalculator\n",
      "1. Add\n",
      "2.Subtract\n",
      "3.Multiply\n",
      "4.Divide\n",
      "5.Modulus\n",
      "6.Check greater number\n",
      "\n",
      "Calculator Summary\n",
      "------------------\n",
      "Operation : Subtraction\n",
      "Values : [1, 2, 3, 4, 5]\n",
      "Result : -13\n"
     ]
    }
   ],
   "source": [
    "# Subtraction Operator\n",
    "sub = Calculator()\n",
    "sub.calc_summary()"
   ]
  },
  {
   "cell_type": "code",
   "execution_count": 387,
   "metadata": {},
   "outputs": [
    {
     "name": "stdout",
     "output_type": "stream",
     "text": [
      "\tCalculator\n",
      "1. Add\n",
      "2.Subtract\n",
      "3.Multiply\n",
      "4.Divide\n",
      "5.Modulus\n",
      "6.Check greater number\n",
      "\n",
      "Calculator Summary\n",
      "------------------\n",
      "Operation : Multiplication\n",
      "Values : [1, 2, 3, 4, 5]\n",
      "Result : 120\n"
     ]
    }
   ],
   "source": [
    "# Multiplication Operator\n",
    "mul = Calculator()\n",
    "mul.calc_summary()"
   ]
  },
  {
   "cell_type": "code",
   "execution_count": 388,
   "metadata": {},
   "outputs": [
    {
     "name": "stdout",
     "output_type": "stream",
     "text": [
      "\tCalculator\n",
      "1. Add\n",
      "2.Subtract\n",
      "3.Multiply\n",
      "4.Divide\n",
      "5.Modulus\n",
      "6.Check greater number\n",
      "\n",
      "Calculator Summary\n",
      "------------------\n",
      "Operation : Division\n",
      "Values : [1, 2, 3, 4, 5]\n",
      "Result : 0.008333333333333333\n"
     ]
    }
   ],
   "source": [
    "# Division Operator\n",
    "div = Calculator()\n",
    "div.calc_summary()"
   ]
  },
  {
   "cell_type": "code",
   "execution_count": 393,
   "metadata": {},
   "outputs": [
    {
     "name": "stdout",
     "output_type": "stream",
     "text": [
      "\tCalculator\n",
      "1. Add\n",
      "2.Subtract\n",
      "3.Multiply\n",
      "4.Divide\n",
      "5.Modulus\n",
      "6.Check greater number\n",
      "\n",
      "Calculator Summary\n",
      "------------------\n",
      "Operation : Modulus\n",
      "Values : [3420, 36]\n",
      "Result : 0\n"
     ]
    }
   ],
   "source": [
    "# Modulus Operator\n",
    "mod = Calculator()\n",
    "mod.calc_summary()"
   ]
  },
  {
   "cell_type": "code",
   "execution_count": 394,
   "metadata": {},
   "outputs": [
    {
     "name": "stdout",
     "output_type": "stream",
     "text": [
      "\tCalculator\n",
      "1. Add\n",
      "2.Subtract\n",
      "3.Multiply\n",
      "4.Divide\n",
      "5.Modulus\n",
      "6.Check greater number\n",
      "\n",
      "Calculator Summary\n",
      "------------------\n",
      "Operation : Greater than\n",
      "Values : [1, 2, 3, 4, 5]\n",
      "Result : 5\n"
     ]
    }
   ],
   "source": [
    "# Greater than Operator\n",
    "gt = Calculator()\n",
    "gt.calc_summary()"
   ]
  },
  {
   "cell_type": "code",
   "execution_count": 398,
   "metadata": {},
   "outputs": [
    {
     "name": "stdout",
     "output_type": "stream",
     "text": [
      "\tCalculator\n",
      "1. Add\n",
      "2.Subtract\n",
      "3.Multiply\n",
      "4.Divide\n",
      "5.Modulus\n",
      "6.Check greater number\n",
      "\n",
      "Calculator Summary\n",
      "------------------\n",
      "Operation : Addition\n",
      "Values : [23, 24, 14, 47, 13, 29, 28, 24, 9, 3]\n",
      "Result : 214\n",
      "\tCalculator\n",
      "1. Add\n",
      "2.Subtract\n",
      "3.Multiply\n",
      "4.Divide\n",
      "5.Modulus\n",
      "6.Check greater number\n",
      "\n",
      "Calculator Summary\n",
      "------------------\n",
      "Operation : Subtraction\n",
      "Values : [14, 26, 21, 24, 24, 42, 12, 16, 20, 22]\n",
      "Result : -193\n"
     ]
    }
   ],
   "source": [
    "# With random values\n",
    "rand_add = Calculator(random_values = True)\n",
    "rand_add.calc_summary()\n",
    "\n",
    "rand_sub = Calculator(random_values = True)\n",
    "rand_sub.calc_summary()"
   ]
  },
  {
   "cell_type": "markdown",
   "metadata": {},
   "source": [
    "## **Exercise 4: Stack Bar Graph**\n",
    "\n",
    "In January 2007, a Gallup poll asked 1008 Americans aged 18 and over whether they planned to watch the upcoming Super Bowl. The pollster also asked who planned to watch whether they were looking forward more to watch football games or commercials. The results were summarized in the table.\n",
    "\n",
    "                    Male\t Female\t  Total\n",
    "    Game\t\t279\t  200\t    479\n",
    "    Commercials\t81\t  156\t    237\n",
    "    won’t watch\t132\t  160\t    292\n",
    "    Total\t\t492\t  516\t    1008"
   ]
  },
  {
   "cell_type": "code",
   "execution_count": 284,
   "metadata": {},
   "outputs": [
    {
     "data": {
      "text/html": [
       "<div>\n",
       "<style scoped>\n",
       "    .dataframe tbody tr th:only-of-type {\n",
       "        vertical-align: middle;\n",
       "    }\n",
       "\n",
       "    .dataframe tbody tr th {\n",
       "        vertical-align: top;\n",
       "    }\n",
       "\n",
       "    .dataframe thead th {\n",
       "        text-align: right;\n",
       "    }\n",
       "</style>\n",
       "<table border=\"1\" class=\"dataframe\">\n",
       "  <thead>\n",
       "    <tr style=\"text-align: right;\">\n",
       "      <th></th>\n",
       "      <th>Male</th>\n",
       "      <th>Female</th>\n",
       "      <th>Total</th>\n",
       "    </tr>\n",
       "  </thead>\n",
       "  <tbody>\n",
       "    <tr>\n",
       "      <th>Game</th>\n",
       "      <td>279</td>\n",
       "      <td>200</td>\n",
       "      <td>479</td>\n",
       "    </tr>\n",
       "    <tr>\n",
       "      <th>Commercials</th>\n",
       "      <td>81</td>\n",
       "      <td>156</td>\n",
       "      <td>237</td>\n",
       "    </tr>\n",
       "    <tr>\n",
       "      <th>Won't Watch</th>\n",
       "      <td>132</td>\n",
       "      <td>160</td>\n",
       "      <td>292</td>\n",
       "    </tr>\n",
       "    <tr>\n",
       "      <th>Total</th>\n",
       "      <td>492</td>\n",
       "      <td>516</td>\n",
       "      <td>1008</td>\n",
       "    </tr>\n",
       "  </tbody>\n",
       "</table>\n",
       "</div>"
      ],
      "text/plain": [
       "             Male  Female  Total\n",
       "Game          279     200    479\n",
       "Commercials    81     156    237\n",
       "Won't Watch   132     160    292\n",
       "Total         492     516   1008"
      ]
     },
     "execution_count": 284,
     "metadata": {},
     "output_type": "execute_result"
    }
   ],
   "source": [
    "import matplotlib.pyplot as plt\n",
    "from matplotlib import style\n",
    "import pandas as pd\n",
    "import numpy as np\n",
    "\n",
    "# Create dictionary out of poll data \n",
    "poll_dict = {'Male' : [279, 81, 132, 492], 'Female' : [200, 156, 160, 516], 'Total' : [479, 237, 292, 1008]}\n",
    "indices = ['Game', 'Commercials', \"Won't Watch\", 'Total']\n",
    "\n",
    "# Create dataframe from dictionary\n",
    "poll_df = pd.DataFrame(poll_dict, index = indices)\n",
    "poll_df"
   ]
  },
  {
   "cell_type": "code",
   "execution_count": 283,
   "metadata": {},
   "outputs": [
    {
     "name": "stdout",
     "output_type": "stream",
     "text": [
      "x shape: (3,)\n",
      "y values shape: (3,)\n"
     ]
    }
   ],
   "source": [
    "# Drop Total row for matching shapes when setting x and y values\n",
    "poll_df = poll_df.drop('Total', axis = 0)\n",
    "\n",
    "# Set x and y values\n",
    "x = np.array(indices[0:3])\n",
    "y1, y2 = np.array(poll_df['Male']), np.array(poll_df['Female'])\n",
    "\n",
    "# Check shapes\n",
    "print(f'x shape: {x.shape}')\n",
    "print(f'y values shape: {y1.shape}')"
   ]
  },
  {
   "cell_type": "code",
   "execution_count": 277,
   "metadata": {},
   "outputs": [
    {
     "data": {
      "text/plain": [
       "<matplotlib.legend.Legend at 0x284dd0f7400>"
      ]
     },
     "execution_count": 277,
     "metadata": {},
     "output_type": "execute_result"
    },
    {
     "data": {
      "image/png": "[encoded data removed]",
      "text/plain": [
       "<Figure size 720x720 with 1 Axes>"
      ]
     },
     "metadata": {},
     "output_type": "display_data"
    }
   ],
   "source": [
    "# Set plot style\n",
    "style.use('seaborn')\n",
    "\n",
    "# Plot Stacked Graph\n",
    "plt.figure(figsize = (10, 10))\n",
    "plt.bar(x, y1)\n",
    "plt.bar(x, y2, bottom = y1, color = 'orange')\n",
    "plt.title('SuperBowl Anticipation: Male vs Female', fontsize = 20)\n",
    "plt.legend(['Male', 'Female'], fontsize = 13)"
   ]
  },
  {
   "cell_type": "code",
   "execution_count": null,
   "metadata": {},
   "outputs": [],
   "source": []
  }
 ],
 "metadata": {
  "kernelspec": {
   "display_name": "Python 3.9.12",
   "language": "python",
   "name": "python3"
  },
  "language_info": {
   "codemirror_mode": {
    "name": "ipython",
    "version": 3
   },
   "file_extension": ".py",
   "mimetype": "text/x-python",
   "name": "python",
   "nbconvert_exporter": "python",
   "pygments_lexer": "ipython3",
   "version": "3.9.12 (main, Apr  4 2022, 05:22:27) [MSC v.1916 64 bit (AMD64)]"
  },
  "orig_nbformat": 4,
  "vscode": {
   "interpreter": {
    "hash": "7ad337ee430aa24b6c49257082db1f060c62cb4993f76ac9031d230999fcbe99"
   }
  }
 },
 "nbformat": 4,
 "nbformat_minor": 2
}
